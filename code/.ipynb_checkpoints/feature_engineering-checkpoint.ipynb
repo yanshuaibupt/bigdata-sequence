{
 "cells": [
  {
   "cell_type": "markdown",
   "metadata": {},
   "source": [
    "# 特征工程"
   ]
  },
  {
   "cell_type": "markdown",
   "metadata": {},
   "source": [
    "# 导入包"
   ]
  },
  {
   "cell_type": "code",
   "execution_count": 1,
   "metadata": {
    "collapsed": true
   },
   "outputs": [],
   "source": [
    "import pandas as pd \n",
    "import numpy as np\n",
    "import re\n",
    "from sklearn.preprocessing import OneHotEncoder"
   ]
  },
  {
   "cell_type": "markdown",
   "metadata": {},
   "source": [
    "# 导入数据"
   ]
  },
  {
   "cell_type": "code",
   "execution_count": 2,
   "metadata": {
    "collapsed": true
   },
   "outputs": [],
   "source": [
    "inputfile = '../datasets/data_processed.csv'\n",
    "outputfile = '../datasets/data_feature_processed.csv'"
   ]
  },
  {
   "cell_type": "code",
   "execution_count": 26,
   "metadata": {
    "collapsed": true
   },
   "outputs": [],
   "source": [
    "data = pd.read_csv(inputfile)"
   ]
  },
  {
   "cell_type": "code",
   "execution_count": 4,
   "metadata": {},
   "outputs": [
    {
     "name": "stdout",
     "output_type": "stream",
     "text": [
      "<class 'pandas.core.frame.DataFrame'>\n",
      "RangeIndex: 240768 entries, 0 to 240767\n",
      "Data columns (total 3 columns):\n",
      "time_stamp       240768 non-null object\n",
      "loc_id           240768 non-null int64\n",
      "num_of_people    240768 non-null float64\n",
      "dtypes: float64(1), int64(1), object(1)\n",
      "memory usage: 5.5+ MB\n"
     ]
    }
   ],
   "source": [
    "data.info()"
   ]
  },
  {
   "cell_type": "code",
   "execution_count": 5,
   "metadata": {},
   "outputs": [
    {
     "data": {
      "text/html": [
       "<div>\n",
       "<style>\n",
       "    .dataframe thead tr:only-child th {\n",
       "        text-align: right;\n",
       "    }\n",
       "\n",
       "    .dataframe thead th {\n",
       "        text-align: left;\n",
       "    }\n",
       "\n",
       "    .dataframe tbody tr th {\n",
       "        vertical-align: top;\n",
       "    }\n",
       "</style>\n",
       "<table border=\"1\" class=\"dataframe\">\n",
       "  <thead>\n",
       "    <tr style=\"text-align: right;\">\n",
       "      <th></th>\n",
       "      <th>time_stamp</th>\n",
       "      <th>loc_id</th>\n",
       "      <th>num_of_people</th>\n",
       "    </tr>\n",
       "  </thead>\n",
       "  <tbody>\n",
       "    <tr>\n",
       "      <th>0</th>\n",
       "      <td>2017-01-01 00:00:00</td>\n",
       "      <td>1</td>\n",
       "      <td>120.0</td>\n",
       "    </tr>\n",
       "    <tr>\n",
       "      <th>1</th>\n",
       "      <td>2017-01-01 01:00:00</td>\n",
       "      <td>1</td>\n",
       "      <td>143.0</td>\n",
       "    </tr>\n",
       "    <tr>\n",
       "      <th>2</th>\n",
       "      <td>2017-01-01 02:00:00</td>\n",
       "      <td>1</td>\n",
       "      <td>87.0</td>\n",
       "    </tr>\n",
       "    <tr>\n",
       "      <th>3</th>\n",
       "      <td>2017-01-01 03:00:00</td>\n",
       "      <td>1</td>\n",
       "      <td>90.0</td>\n",
       "    </tr>\n",
       "    <tr>\n",
       "      <th>4</th>\n",
       "      <td>2017-01-01 04:00:00</td>\n",
       "      <td>1</td>\n",
       "      <td>45.0</td>\n",
       "    </tr>\n",
       "  </tbody>\n",
       "</table>\n",
       "</div>"
      ],
      "text/plain": [
       "            time_stamp  loc_id  num_of_people\n",
       "0  2017-01-01 00:00:00       1          120.0\n",
       "1  2017-01-01 01:00:00       1          143.0\n",
       "2  2017-01-01 02:00:00       1           87.0\n",
       "3  2017-01-01 03:00:00       1           90.0\n",
       "4  2017-01-01 04:00:00       1           45.0"
      ]
     },
     "execution_count": 5,
     "metadata": {},
     "output_type": "execute_result"
    }
   ],
   "source": [
    "data.head()"
   ]
  },
  {
   "cell_type": "markdown",
   "metadata": {},
   "source": [
    "# 特征工程"
   ]
  },
  {
   "cell_type": "code",
   "execution_count": 27,
   "metadata": {
    "collapsed": true
   },
   "outputs": [],
   "source": [
    "df = data.copy()"
   ]
  },
  {
   "cell_type": "markdown",
   "metadata": {
    "collapsed": true
   },
   "source": [
    "## 1. 增加历史特征和季节性特征"
   ]
  },
  {
   "cell_type": "code",
   "execution_count": 28,
   "metadata": {},
   "outputs": [
    {
     "name": "stdout",
     "output_type": "stream",
     "text": [
      "Wall time: 10.2 s\n"
     ]
    }
   ],
   "source": [
    "%time df = feature_engineering(df)"
   ]
  },
  {
   "cell_type": "markdown",
   "metadata": {},
   "source": [
    "## 2. one-hot编码loc_id "
   ]
  },
  {
   "cell_type": "code",
   "execution_count": 29,
   "metadata": {
    "collapsed": true
   },
   "outputs": [],
   "source": [
    "df = df.join(pd.get_dummies(df.loc_id))"
   ]
  },
  {
   "cell_type": "markdown",
   "metadata": {},
   "source": [
    "# 删除数据"
   ]
  },
  {
   "cell_type": "code",
   "execution_count": 30,
   "metadata": {
    "collapsed": true,
    "scrolled": true
   },
   "outputs": [],
   "source": [
    "# 构造历史24小时数据，需要删除33个地点第一天的数据，即删除20170101\n",
    "# 构造历史一个月数据，需要删除第一个月数据\n",
    "df = df[df.time_stamp>='2017-04-01'] "
   ]
  },
  {
   "cell_type": "code",
   "execution_count": 31,
   "metadata": {
    "scrolled": true
   },
   "outputs": [
    {
     "data": {
      "text/plain": [
       "Series([], dtype: int64)"
      ]
     },
     "execution_count": 31,
     "metadata": {},
     "output_type": "execute_result"
    }
   ],
   "source": [
    "nulldata = df.isnull().sum()\n",
    "nulldata[nulldata>0]"
   ]
  },
  {
   "cell_type": "markdown",
   "metadata": {},
   "source": [
    "## 导出数据"
   ]
  },
  {
   "cell_type": "code",
   "execution_count": 32,
   "metadata": {
    "collapsed": true
   },
   "outputs": [],
   "source": [
    "df.to_csv(outputfile,index=False)"
   ]
  },
  {
   "cell_type": "markdown",
   "metadata": {},
   "source": [
    "# 以下是模型用到的公共函数"
   ]
  },
  {
   "cell_type": "code",
   "execution_count": 7,
   "metadata": {
    "collapsed": true
   },
   "outputs": [],
   "source": [
    "reg = re.compile('\\s+|\\t|\\n') # 正则匹配空格、Tab键、换行\n",
    "#列名，历史24小时人数\n",
    "col_24h='''history_1h_population,history_2h_population,history_3h_population,history_4h_population\n",
    "    ,history_5h_population,history_6h_population,history_7h_population,history_8h_population\n",
    "    ,history_9h_population,history_10h_population,history_11h_population,history_12h_population\n",
    "    ,history_13h_population,history_14h_population,history_15h_population,history_16h_population,history_17h_population\n",
    "    ,history_18h_population,history_19h_population,history_20h_population,history_21h_population,history_22h_population\n",
    "    ,history_23h_population'''\n",
    "columns_24h=re.sub(reg,'',col_24h).split(',')  \n",
    "#列名，同一时刻历史15天人数\n",
    "col_30d='''history_1d_population,history_2d_population,history_3d_population,\n",
    "    history_4d_population,history_5d_population,history_6d_population,\n",
    "    history_7d_population,history_8d_population,history_9d_population,history_10d_population,history_11d_population,\n",
    "    history_12d_population,history_13d_population,history_14d_population,history_15d_population,history_16d_population\n",
    "    ,history_17d_population,history_18d_population,history_19d_population,history_20d_population,history_21d_population\n",
    "    ,history_22d_population,history_23d_population,history_24d_population,history_25d_population,history_26d_population\n",
    "    ,history_27d_population,history_28d_population,history_29d_population,history_30d_population'''\n",
    "columns_30d=re.sub(reg,'',col_30d).split(',')    "
   ]
  },
  {
   "cell_type": "code",
   "execution_count": 8,
   "metadata": {
    "collapsed": true
   },
   "outputs": [],
   "source": [
    "def feature_engineering(data):\n",
    "    df = data.copy()\n",
    "    df = seasonal_feature_engineering(df)\n",
    "    df = history_features(df)\n",
    "    return df"
   ]
  },
  {
   "cell_type": "code",
   "execution_count": 9,
   "metadata": {
    "collapsed": true
   },
   "outputs": [],
   "source": [
    "# 按地点分组，保证地点之间shift操作数据不会互相覆盖，每个地点的历史数据都移动正确\n",
    "# 例如地点1历史特征构造完，最后的数据不会shift到地点2上\n",
    "def history_features(data):\n",
    "    res = [None]*33\n",
    "    df = data.copy()\n",
    "    df.sort_values(by=['loc_id','time_stamp'],inplace=True)\n",
    "    for i in range(33):\n",
    "        res[i] = df.loc[df.loc_id == i+1]\n",
    "    train = pd.DataFrame()\n",
    "    for tmp in res:\n",
    "        tmp = history_24h_population(tmp,columns_24h)\n",
    "        tmp = history_30d_population(tmp,columns_30d)\n",
    "        train = train.append(tmp)\n",
    "    return train"
   ]
  },
  {
   "cell_type": "code",
   "execution_count": 10,
   "metadata": {
    "collapsed": true
   },
   "outputs": [],
   "source": [
    "def history_24h_population(data,features):\n",
    "    df = data.copy()\n",
    "    for item in features:\n",
    "        df[item] = np.nan\n",
    "    for i in range(len(features)):\n",
    "        df[features[i]] = df['num_of_people'].shift(i+1)\n",
    "    return df"
   ]
  },
  {
   "cell_type": "code",
   "execution_count": 11,
   "metadata": {
    "collapsed": true
   },
   "outputs": [],
   "source": [
    "def history_30d_population(data,features):\n",
    "    df = data.copy()\n",
    "    for item in features:\n",
    "        df[item] = np.nan\n",
    "    for i in range(len(features)):\n",
    "        df[features[i]] = df['num_of_people'].shift((i+1)*24)\n",
    "    return df"
   ]
  },
  {
   "cell_type": "code",
   "execution_count": 33,
   "metadata": {
    "collapsed": true
   },
   "outputs": [],
   "source": [
    "def seasonal_feature_engineering(data):\n",
    "    df=data.copy()\n",
    "    df.time_stamp = pd.to_datetime(df.time_stamp)\n",
    "    df['hour_of_day']=df.time_stamp.apply(lambda x : x.hour) #小时\n",
    "    df['day_of_week']=df.time_stamp.apply(lambda x : x.weekday()) #周几，从0开始\n",
    "    return df   "
   ]
  },
  {
   "cell_type": "code",
   "execution_count": null,
   "metadata": {
    "collapsed": true
   },
   "outputs": [],
   "source": []
  }
 ],
 "metadata": {
  "kernelspec": {
   "display_name": "Python 3",
   "language": "python",
   "name": "python3"
  },
  "language_info": {
   "codemirror_mode": {
    "name": "ipython",
    "version": 3
   },
   "file_extension": ".py",
   "mimetype": "text/x-python",
   "name": "python",
   "nbconvert_exporter": "python",
   "pygments_lexer": "ipython3",
   "version": "3.6.3"
  }
 },
 "nbformat": 4,
 "nbformat_minor": 2
}
