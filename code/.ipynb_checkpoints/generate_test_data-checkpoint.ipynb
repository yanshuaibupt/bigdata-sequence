{
 "cells": [
  {
   "cell_type": "markdown",
   "metadata": {},
   "source": [
    "# 特征工程"
   ]
  },
  {
   "cell_type": "markdown",
   "metadata": {},
   "source": [
    "# 导入包"
   ]
  },
  {
   "cell_type": "code",
   "execution_count": 2,
   "metadata": {
    "collapsed": true
   },
   "outputs": [],
   "source": [
    "import pandas as pd \n",
    "import numpy as np\n",
    "import re\n",
    "from sklearn.preprocessing import OneHotEncoder\n",
    "import datetime"
   ]
  },
  {
   "cell_type": "markdown",
   "metadata": {},
   "source": [
    "# 导入数据"
   ]
  },
  {
   "cell_type": "code",
   "execution_count": 3,
   "metadata": {
    "collapsed": true
   },
   "outputs": [],
   "source": [
    "inputfile = '../datasets/data_processed.csv'\n",
    "outputfile = '../datasets/data_feature_processed.csv'"
   ]
  },
  {
   "cell_type": "code",
   "execution_count": 21,
   "metadata": {
    "collapsed": true
   },
   "outputs": [],
   "source": [
    "data = pd.read_csv(inputfile,parse_dates=['time_stamp'])"
   ]
  },
  {
   "cell_type": "code",
   "execution_count": 22,
   "metadata": {},
   "outputs": [
    {
     "data": {
      "text/html": [
       "<div>\n",
       "<style>\n",
       "    .dataframe thead tr:only-child th {\n",
       "        text-align: right;\n",
       "    }\n",
       "\n",
       "    .dataframe thead th {\n",
       "        text-align: left;\n",
       "    }\n",
       "\n",
       "    .dataframe tbody tr th {\n",
       "        vertical-align: top;\n",
       "    }\n",
       "</style>\n",
       "<table border=\"1\" class=\"dataframe\">\n",
       "  <thead>\n",
       "    <tr style=\"text-align: right;\">\n",
       "      <th></th>\n",
       "      <th>time_stamp</th>\n",
       "      <th>loc_id</th>\n",
       "      <th>num_of_people</th>\n",
       "    </tr>\n",
       "  </thead>\n",
       "  <tbody>\n",
       "    <tr>\n",
       "      <th>0</th>\n",
       "      <td>2017-03-01 00:00:00</td>\n",
       "      <td>1</td>\n",
       "      <td>0.0</td>\n",
       "    </tr>\n",
       "    <tr>\n",
       "      <th>1</th>\n",
       "      <td>2017-03-01 01:00:00</td>\n",
       "      <td>1</td>\n",
       "      <td>0.0</td>\n",
       "    </tr>\n",
       "    <tr>\n",
       "      <th>2</th>\n",
       "      <td>2017-03-01 02:00:00</td>\n",
       "      <td>1</td>\n",
       "      <td>54.0</td>\n",
       "    </tr>\n",
       "    <tr>\n",
       "      <th>3</th>\n",
       "      <td>2017-03-01 03:00:00</td>\n",
       "      <td>1</td>\n",
       "      <td>456.0</td>\n",
       "    </tr>\n",
       "    <tr>\n",
       "      <th>4</th>\n",
       "      <td>2017-03-01 04:00:00</td>\n",
       "      <td>1</td>\n",
       "      <td>470.0</td>\n",
       "    </tr>\n",
       "  </tbody>\n",
       "</table>\n",
       "</div>"
      ],
      "text/plain": [
       "           time_stamp  loc_id  num_of_people\n",
       "0 2017-03-01 00:00:00       1            0.0\n",
       "1 2017-03-01 01:00:00       1            0.0\n",
       "2 2017-03-01 02:00:00       1           54.0\n",
       "3 2017-03-01 03:00:00       1          456.0\n",
       "4 2017-03-01 04:00:00       1          470.0"
      ]
     },
     "execution_count": 22,
     "metadata": {},
     "output_type": "execute_result"
    }
   ],
   "source": [
    "data.head()"
   ]
  },
  {
   "cell_type": "code",
   "execution_count": 23,
   "metadata": {},
   "outputs": [
    {
     "data": {
      "text/html": [
       "<div>\n",
       "<style>\n",
       "    .dataframe thead tr:only-child th {\n",
       "        text-align: right;\n",
       "    }\n",
       "\n",
       "    .dataframe thead th {\n",
       "        text-align: left;\n",
       "    }\n",
       "\n",
       "    .dataframe tbody tr th {\n",
       "        vertical-align: top;\n",
       "    }\n",
       "</style>\n",
       "<table border=\"1\" class=\"dataframe\">\n",
       "  <thead>\n",
       "    <tr style=\"text-align: right;\">\n",
       "      <th></th>\n",
       "      <th>time_stamp</th>\n",
       "      <th>loc_id</th>\n",
       "      <th>num_of_people</th>\n",
       "    </tr>\n",
       "  </thead>\n",
       "  <tbody>\n",
       "    <tr>\n",
       "      <th>187699</th>\n",
       "      <td>2017-10-31 19:00:00</td>\n",
       "      <td>33</td>\n",
       "      <td>407.0</td>\n",
       "    </tr>\n",
       "    <tr>\n",
       "      <th>187700</th>\n",
       "      <td>2017-10-31 20:00:00</td>\n",
       "      <td>33</td>\n",
       "      <td>496.0</td>\n",
       "    </tr>\n",
       "    <tr>\n",
       "      <th>187701</th>\n",
       "      <td>2017-10-31 21:00:00</td>\n",
       "      <td>33</td>\n",
       "      <td>434.0</td>\n",
       "    </tr>\n",
       "    <tr>\n",
       "      <th>187702</th>\n",
       "      <td>2017-10-31 22:00:00</td>\n",
       "      <td>33</td>\n",
       "      <td>272.0</td>\n",
       "    </tr>\n",
       "    <tr>\n",
       "      <th>187703</th>\n",
       "      <td>2017-10-31 23:00:00</td>\n",
       "      <td>33</td>\n",
       "      <td>120.0</td>\n",
       "    </tr>\n",
       "  </tbody>\n",
       "</table>\n",
       "</div>"
      ],
      "text/plain": [
       "                time_stamp  loc_id  num_of_people\n",
       "187699 2017-10-31 19:00:00      33          407.0\n",
       "187700 2017-10-31 20:00:00      33          496.0\n",
       "187701 2017-10-31 21:00:00      33          434.0\n",
       "187702 2017-10-31 22:00:00      33          272.0\n",
       "187703 2017-10-31 23:00:00      33          120.0"
      ]
     },
     "execution_count": 23,
     "metadata": {},
     "output_type": "execute_result"
    }
   ],
   "source": [
    "data.tail()"
   ]
  },
  {
   "cell_type": "markdown",
   "metadata": {},
   "source": [
    "# 10月测试数据导出"
   ]
  },
  {
   "cell_type": "code",
   "execution_count": 33,
   "metadata": {
    "collapsed": true
   },
   "outputs": [],
   "source": [
    "df = data.copy()\n",
    "df.loc[df.time_stamp>='2017-10-01','num_of_people'] = np.nan\n",
    "df = feature_engineering(df)\n",
    "df = df.join(pd.get_dummies(df.loc_id))\n",
    "df[df.time_stamp>='2017-10-01'].to_csv('../datasets/Oct_test_data.csv',index=False)"
   ]
  },
  {
   "cell_type": "markdown",
   "metadata": {},
   "source": [
    "# 11月测试数据导出"
   ]
  },
  {
   "cell_type": "code",
   "execution_count": 35,
   "metadata": {
    "collapsed": true
   },
   "outputs": [],
   "source": [
    "df1 = data.copy()"
   ]
  },
  {
   "cell_type": "code",
   "execution_count": 36,
   "metadata": {},
   "outputs": [
    {
     "name": "stderr",
     "output_type": "stream",
     "text": [
      "D:\\Anaconda\\lib\\site-packages\\pandas\\core\\generic.py:3110: SettingWithCopyWarning: \n",
      "A value is trying to be set on a copy of a slice from a DataFrame.\n",
      "Try using .loc[row_indexer,col_indexer] = value instead\n",
      "\n",
      "See the caveats in the documentation: http://pandas.pydata.org/pandas-docs/stable/indexing.html#indexing-view-versus-copy\n",
      "  self[name] = value\n"
     ]
    }
   ],
   "source": [
    "df_nov = df1[df1.time_stamp>='2017-09-01']\n",
    "df_nov.time_stamp = df_nov.time_stamp+datetime.timedelta(61)\n",
    "df_nov = df_nov[df_nov.time_stamp<'2017-12-01']\n",
    "df_nov.loc[df_nov.time_stamp>='2017-11-01','num_of_people'] = np.nan"
   ]
  },
  {
   "cell_type": "code",
   "execution_count": 37,
   "metadata": {},
   "outputs": [
    {
     "data": {
      "text/html": [
       "<div>\n",
       "<style>\n",
       "    .dataframe thead tr:only-child th {\n",
       "        text-align: right;\n",
       "    }\n",
       "\n",
       "    .dataframe thead th {\n",
       "        text-align: left;\n",
       "    }\n",
       "\n",
       "    .dataframe tbody tr th {\n",
       "        vertical-align: top;\n",
       "    }\n",
       "</style>\n",
       "<table border=\"1\" class=\"dataframe\">\n",
       "  <thead>\n",
       "    <tr style=\"text-align: right;\">\n",
       "      <th></th>\n",
       "      <th>time_stamp</th>\n",
       "      <th>loc_id</th>\n",
       "      <th>num_of_people</th>\n",
       "    </tr>\n",
       "  </thead>\n",
       "  <tbody>\n",
       "    <tr>\n",
       "      <th>4416</th>\n",
       "      <td>2017-11-01 00:00:00</td>\n",
       "      <td>1</td>\n",
       "      <td>NaN</td>\n",
       "    </tr>\n",
       "    <tr>\n",
       "      <th>4417</th>\n",
       "      <td>2017-11-01 01:00:00</td>\n",
       "      <td>1</td>\n",
       "      <td>NaN</td>\n",
       "    </tr>\n",
       "    <tr>\n",
       "      <th>4418</th>\n",
       "      <td>2017-11-01 02:00:00</td>\n",
       "      <td>1</td>\n",
       "      <td>NaN</td>\n",
       "    </tr>\n",
       "    <tr>\n",
       "      <th>4419</th>\n",
       "      <td>2017-11-01 03:00:00</td>\n",
       "      <td>1</td>\n",
       "      <td>NaN</td>\n",
       "    </tr>\n",
       "    <tr>\n",
       "      <th>4420</th>\n",
       "      <td>2017-11-01 04:00:00</td>\n",
       "      <td>1</td>\n",
       "      <td>NaN</td>\n",
       "    </tr>\n",
       "  </tbody>\n",
       "</table>\n",
       "</div>"
      ],
      "text/plain": [
       "              time_stamp  loc_id  num_of_people\n",
       "4416 2017-11-01 00:00:00       1            NaN\n",
       "4417 2017-11-01 01:00:00       1            NaN\n",
       "4418 2017-11-01 02:00:00       1            NaN\n",
       "4419 2017-11-01 03:00:00       1            NaN\n",
       "4420 2017-11-01 04:00:00       1            NaN"
      ]
     },
     "execution_count": 37,
     "metadata": {},
     "output_type": "execute_result"
    }
   ],
   "source": [
    "df_nov.head()"
   ]
  },
  {
   "cell_type": "code",
   "execution_count": 38,
   "metadata": {},
   "outputs": [
    {
     "data": {
      "text/html": [
       "<div>\n",
       "<style>\n",
       "    .dataframe thead tr:only-child th {\n",
       "        text-align: right;\n",
       "    }\n",
       "\n",
       "    .dataframe thead th {\n",
       "        text-align: left;\n",
       "    }\n",
       "\n",
       "    .dataframe tbody tr th {\n",
       "        vertical-align: top;\n",
       "    }\n",
       "</style>\n",
       "<table border=\"1\" class=\"dataframe\">\n",
       "  <thead>\n",
       "    <tr style=\"text-align: right;\">\n",
       "      <th></th>\n",
       "      <th>time_stamp</th>\n",
       "      <th>loc_id</th>\n",
       "      <th>num_of_people</th>\n",
       "    </tr>\n",
       "  </thead>\n",
       "  <tbody>\n",
       "    <tr>\n",
       "      <th>187147</th>\n",
       "      <td>2017-11-30 19:00:00</td>\n",
       "      <td>33</td>\n",
       "      <td>NaN</td>\n",
       "    </tr>\n",
       "    <tr>\n",
       "      <th>187148</th>\n",
       "      <td>2017-11-30 20:00:00</td>\n",
       "      <td>33</td>\n",
       "      <td>NaN</td>\n",
       "    </tr>\n",
       "    <tr>\n",
       "      <th>187149</th>\n",
       "      <td>2017-11-30 21:00:00</td>\n",
       "      <td>33</td>\n",
       "      <td>NaN</td>\n",
       "    </tr>\n",
       "    <tr>\n",
       "      <th>187150</th>\n",
       "      <td>2017-11-30 22:00:00</td>\n",
       "      <td>33</td>\n",
       "      <td>NaN</td>\n",
       "    </tr>\n",
       "    <tr>\n",
       "      <th>187151</th>\n",
       "      <td>2017-11-30 23:00:00</td>\n",
       "      <td>33</td>\n",
       "      <td>NaN</td>\n",
       "    </tr>\n",
       "  </tbody>\n",
       "</table>\n",
       "</div>"
      ],
      "text/plain": [
       "                time_stamp  loc_id  num_of_people\n",
       "187147 2017-11-30 19:00:00      33            NaN\n",
       "187148 2017-11-30 20:00:00      33            NaN\n",
       "187149 2017-11-30 21:00:00      33            NaN\n",
       "187150 2017-11-30 22:00:00      33            NaN\n",
       "187151 2017-11-30 23:00:00      33            NaN"
      ]
     },
     "execution_count": 38,
     "metadata": {},
     "output_type": "execute_result"
    }
   ],
   "source": [
    "df_nov.tail()"
   ]
  },
  {
   "cell_type": "code",
   "execution_count": 39,
   "metadata": {
    "collapsed": true
   },
   "outputs": [],
   "source": [
    "df1 = df1.append(df_nov)\n",
    "df1.reset_index(inplace=True)\n",
    "df1.drop('index',inplace=True,axis=1)"
   ]
  },
  {
   "cell_type": "code",
   "execution_count": 40,
   "metadata": {
    "collapsed": true
   },
   "outputs": [],
   "source": [
    "df1 = feature_engineering(df1)\n",
    "df1 = df1.join(pd.get_dummies(df1.loc_id))"
   ]
  },
  {
   "cell_type": "code",
   "execution_count": 42,
   "metadata": {},
   "outputs": [
    {
     "data": {
      "text/plain": [
       "23760"
      ]
     },
     "execution_count": 42,
     "metadata": {},
     "output_type": "execute_result"
    }
   ],
   "source": [
    "len(df1[df1.time_stamp>='2017-11-01'])"
   ]
  },
  {
   "cell_type": "code",
   "execution_count": 41,
   "metadata": {
    "collapsed": true
   },
   "outputs": [],
   "source": [
    "df1[df1.time_stamp>='2017-11-01'].to_csv('../datasets/Nov_test_data.csv',index=False)"
   ]
  },
  {
   "cell_type": "markdown",
   "metadata": {},
   "source": [
    "# 以下是模型用到的公共函数"
   ]
  },
  {
   "cell_type": "code",
   "execution_count": 7,
   "metadata": {
    "collapsed": true
   },
   "outputs": [],
   "source": [
    "reg = re.compile('\\s+|\\t|\\n') # 正则匹配空格、Tab键、换行\n",
    "#列名，历史24小时人数\n",
    "col_24h='''history_1h_population,history_2h_population,history_3h_population,history_4h_population\n",
    "    ,history_5h_population,history_6h_population,history_7h_population,history_8h_population\n",
    "    ,history_9h_population,history_10h_population,history_11h_population,history_12h_population\n",
    "    ,history_13h_population,history_14h_population,history_15h_population,history_16h_population,history_17h_population\n",
    "    ,history_18h_population,history_19h_population,history_20h_population,history_21h_population,history_22h_population\n",
    "    ,history_23h_population'''\n",
    "columns_24h=re.sub(reg,'',col_24h).split(',')  \n",
    "#列名，同一时刻历史15天人数\n",
    "col_30d='''history_1d_population,history_2d_population,history_3d_population,\n",
    "    history_4d_population,history_5d_population,history_6d_population,\n",
    "    history_7d_population,history_8d_population,history_9d_population,history_10d_population,history_11d_population,\n",
    "    history_12d_population,history_13d_population,history_14d_population,history_15d_population,history_16d_population\n",
    "    ,history_17d_population,history_18d_population,history_19d_population,history_20d_population,history_21d_population\n",
    "    ,history_22d_population,history_23d_population,history_24d_population,history_25d_population,history_26d_population\n",
    "    ,history_27d_population,history_28d_population,history_29d_population,history_30d_population'''\n",
    "columns_30d=re.sub(reg,'',col_30d).split(',')    "
   ]
  },
  {
   "cell_type": "code",
   "execution_count": 8,
   "metadata": {
    "collapsed": true
   },
   "outputs": [],
   "source": [
    "def feature_engineering(data):\n",
    "    df = data.copy()\n",
    "    df = seasonal_feature_engineering(df)\n",
    "    df = history_features(df)\n",
    "    return df"
   ]
  },
  {
   "cell_type": "code",
   "execution_count": 9,
   "metadata": {
    "collapsed": true
   },
   "outputs": [],
   "source": [
    "# 按地点分组\n",
    "def history_features(data):\n",
    "    res = [None]*33\n",
    "    df = data.copy()\n",
    "    df.sort_values(by=['loc_id','time_stamp'],inplace=True)\n",
    "    for i in range(33):\n",
    "        res[i] = df.loc[df.loc_id == i+1]\n",
    "    train = pd.DataFrame()\n",
    "    for tmp in res:\n",
    "        tmp = history_24h_population(tmp,columns_24h)\n",
    "        tmp = history_30d_population(tmp,columns_30d)\n",
    "        train = train.append(tmp)\n",
    "    return train"
   ]
  },
  {
   "cell_type": "code",
   "execution_count": 10,
   "metadata": {
    "collapsed": true
   },
   "outputs": [],
   "source": [
    "def history_24h_population(data,features):\n",
    "    df = data.copy()\n",
    "    for item in features:\n",
    "        df[item] = np.nan\n",
    "    for i in range(len(features)):\n",
    "        df[features[i]] = df['num_of_people'].shift(i+1)\n",
    "    return df"
   ]
  },
  {
   "cell_type": "code",
   "execution_count": 11,
   "metadata": {
    "collapsed": true
   },
   "outputs": [],
   "source": [
    "def history_30d_population(data,features):\n",
    "    df = data.copy()\n",
    "    for item in features:\n",
    "        df[item] = np.nan\n",
    "    for i in range(len(features)):\n",
    "        df[features[i]] = df['num_of_people'].shift((i+1)*24)\n",
    "    return df"
   ]
  },
  {
   "cell_type": "code",
   "execution_count": 43,
   "metadata": {
    "collapsed": true
   },
   "outputs": [],
   "source": [
    "def seasonal_feature_engineering(data):\n",
    "    df = data.copy()\n",
    "    df.time_stamp = pd.to_datetime(df.time_stamp)\n",
    "    df['hour_of_day']=df.time_stamp.apply(lambda x : x.hour) #小时\n",
    "    df['day_of_week'] = df.time_stamp.apply(lambda x : x.weekday()) #周几，从0开始\n",
    "    return df   "
   ]
  }
 ],
 "metadata": {
  "kernelspec": {
   "display_name": "Python 3",
   "language": "python",
   "name": "python3"
  },
  "language_info": {
   "codemirror_mode": {
    "name": "ipython",
    "version": 3
   },
   "file_extension": ".py",
   "mimetype": "text/x-python",
   "name": "python",
   "nbconvert_exporter": "python",
   "pygments_lexer": "ipython3",
   "version": "3.6.3"
  }
 },
 "nbformat": 4,
 "nbformat_minor": 2
}
