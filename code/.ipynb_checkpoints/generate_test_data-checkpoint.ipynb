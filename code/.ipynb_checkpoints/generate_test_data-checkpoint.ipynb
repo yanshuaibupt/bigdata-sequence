{
 "cells": [
  {
   "cell_type": "markdown",
   "metadata": {},
   "source": [
    "# 测试数据生成\n",
    "* 第一阶段：生成10月和11月测试数据\n",
    "* 第二阶段：生成12月测试数据"
   ]
  },
  {
   "cell_type": "markdown",
   "metadata": {},
   "source": [
    "# 导入包"
   ]
  },
  {
   "cell_type": "code",
   "execution_count": 4,
   "metadata": {
    "collapsed": true
   },
   "outputs": [],
   "source": [
    "import pandas as pd \n",
    "import numpy as np\n",
    "import re\n",
    "from sklearn.preprocessing import OneHotEncoder\n",
    "import datetime"
   ]
  },
  {
   "cell_type": "markdown",
   "metadata": {},
   "source": [
    "# 导入数据"
   ]
  },
  {
   "cell_type": "code",
   "execution_count": 2,
   "metadata": {
    "collapsed": true
   },
   "outputs": [],
   "source": [
    "inputfile = '../datasets/data_processed.csv'\n",
    "outputfile = '../datasets/data_feature_processed.csv'"
   ]
  },
  {
   "cell_type": "code",
   "execution_count": 88,
   "metadata": {
    "collapsed": true
   },
   "outputs": [],
   "source": [
    "data = pd.read_csv(inputfile,parse_dates=['time_stamp'])"
   ]
  },
  {
   "cell_type": "markdown",
   "metadata": {},
   "source": [
    "# 10月测试数据导出"
   ]
  },
  {
   "cell_type": "code",
   "execution_count": 33,
   "metadata": {
    "collapsed": true
   },
   "outputs": [],
   "source": [
    "df = data.copy()\n",
    "df.loc[df.time_stamp>='2017-10-01','num_of_people'] = np.nan\n",
    "df = feature_engineering(df)\n",
    "df = df.join(pd.get_dummies(df.loc_id))\n",
    "df[df.time_stamp>='2017-10-01'].to_csv('../datasets/Oct_test_data.csv',index=False)"
   ]
  },
  {
   "cell_type": "markdown",
   "metadata": {},
   "source": [
    "# 11月测试数据导出"
   ]
  },
  {
   "cell_type": "code",
   "execution_count": 35,
   "metadata": {
    "collapsed": true
   },
   "outputs": [],
   "source": [
    "df1 = data.copy()\n",
    "df_nov = df1[df1.time_stamp>='2017-09-01']\n",
    "df_nov.time_stamp = df_nov.time_stamp+datetime.timedelta(61)\n",
    "df_nov = df_nov[df_nov.time_stamp<'2017-12-01']\n",
    "df_nov.loc[df_nov.time_stamp>='2017-11-01','num_of_people'] = np.nan"
   ]
  },
  {
   "cell_type": "code",
   "execution_count": 39,
   "metadata": {
    "collapsed": true
   },
   "outputs": [],
   "source": [
    "df1 = df1.append(df_nov)\n",
    "df1.reset_index(inplace=True)\n",
    "df1.drop('index',inplace=True,axis=1)"
   ]
  },
  {
   "cell_type": "code",
   "execution_count": 40,
   "metadata": {
    "collapsed": true
   },
   "outputs": [],
   "source": [
    "df1 = feature_engineering(df1)\n",
    "df1 = df1.join(pd.get_dummies(df1.loc_id))"
   ]
  },
  {
   "cell_type": "code",
   "execution_count": 42,
   "metadata": {},
   "outputs": [
    {
     "data": {
      "text/plain": [
       "23760"
      ]
     },
     "execution_count": 42,
     "metadata": {},
     "output_type": "execute_result"
    }
   ],
   "source": [
    "len(df1[df1.time_stamp>='2017-11-01'])"
   ]
  },
  {
   "cell_type": "code",
   "execution_count": 41,
   "metadata": {
    "collapsed": true
   },
   "outputs": [],
   "source": [
    "df1[df1.time_stamp>='2017-11-01'].to_csv('../datasets/Nov_test_data.csv',index=False)"
   ]
  },
  {
   "cell_type": "markdown",
   "metadata": {},
   "source": [
    "# 12月测试数据导出"
   ]
  },
  {
   "cell_type": "code",
   "execution_count": 91,
   "metadata": {
    "collapsed": true
   },
   "outputs": [],
   "source": [
    "df2 = data.copy()"
   ]
  },
  {
   "cell_type": "code",
   "execution_count": 93,
   "metadata": {},
   "outputs": [
    {
     "name": "stderr",
     "output_type": "stream",
     "text": [
      "D:\\Anaconda3\\lib\\site-packages\\pandas\\core\\generic.py:3643: SettingWithCopyWarning: \n",
      "A value is trying to be set on a copy of a slice from a DataFrame.\n",
      "Try using .loc[row_indexer,col_indexer] = value instead\n",
      "\n",
      "See the caveats in the documentation: http://pandas.pydata.org/pandas-docs/stable/indexing.html#indexing-view-versus-copy\n",
      "  self[name] = value\n"
     ]
    }
   ],
   "source": [
    "df_dec = df2[df2.time_stamp>='2017-10-01']\n",
    "df_dec.time_stamp = df_dec.time_stamp+datetime.timedelta(61)\n",
    "df_dec = df_dec[(df_dec.time_stamp>='2017-12-01')&(df_dec.time_stamp<'2018')]\n",
    "df_dec.loc[df_dec.time_stamp>='2017-12-01','num_of_people'] = np.nan"
   ]
  },
  {
   "cell_type": "code",
   "execution_count": 94,
   "metadata": {},
   "outputs": [
    {
     "data": {
      "text/plain": [
       "(24552, 3)"
      ]
     },
     "execution_count": 94,
     "metadata": {},
     "output_type": "execute_result"
    }
   ],
   "source": [
    "df_dec.shape"
   ]
  },
  {
   "cell_type": "code",
   "execution_count": 95,
   "metadata": {
    "collapsed": true
   },
   "outputs": [],
   "source": [
    "df2 = df2.append(df_dec)\n",
    "df2.reset_index(inplace=True)\n",
    "df2.drop('index',inplace=True,axis=1)"
   ]
  },
  {
   "cell_type": "code",
   "execution_count": 96,
   "metadata": {},
   "outputs": [
    {
     "name": "stdout",
     "output_type": "stream",
     "text": [
      "Wall time: 11.5 s\n"
     ]
    }
   ],
   "source": [
    "%time df2 = feature_engineering(df2)\n",
    "df2 = df2.join(pd.get_dummies(df2.loc_id))"
   ]
  },
  {
   "cell_type": "code",
   "execution_count": 97,
   "metadata": {},
   "outputs": [
    {
     "data": {
      "text/plain": [
       "(24552, 101)"
      ]
     },
     "execution_count": 97,
     "metadata": {},
     "output_type": "execute_result"
    }
   ],
   "source": [
    "df2[df2.time_stamp>='2017-12-01'].shape"
   ]
  },
  {
   "cell_type": "code",
   "execution_count": 98,
   "metadata": {
    "collapsed": true
   },
   "outputs": [],
   "source": [
    "df2[df2.time_stamp>='2017-12-01'].to_csv('../datasets/Dec_test_data.csv',index=False)"
   ]
  },
  {
   "cell_type": "markdown",
   "metadata": {},
   "source": [
    "# 以下是模型用到的公共函数"
   ]
  },
  {
   "cell_type": "code",
   "execution_count": 80,
   "metadata": {
    "collapsed": true
   },
   "outputs": [],
   "source": [
    "reg = re.compile('\\s+|\\t|\\n') # 正则匹配空格、Tab键、换行\n",
    "#列名，历史24小时人数\n",
    "col_24h='''history_1h_population,history_2h_population,history_3h_population,history_4h_population\n",
    "    ,history_5h_population,history_6h_population,history_7h_population,history_8h_population\n",
    "    ,history_9h_population,history_10h_population,history_11h_population,history_12h_population\n",
    "    ,history_13h_population,history_14h_population,history_15h_population,history_16h_population,history_17h_population\n",
    "    ,history_18h_population,history_19h_population,history_20h_population,history_21h_population,history_22h_population\n",
    "    ,history_23h_population'''\n",
    "columns_24h=re.sub(reg,'',col_24h).split(',')  \n",
    "#列名，同一时刻历史15天人数\n",
    "col_30d='''history_1d_population,history_2d_population,history_3d_population,\n",
    "    history_4d_population,history_5d_population,history_6d_population,\n",
    "    history_7d_population,history_8d_population,history_9d_population,history_10d_population,history_11d_population,\n",
    "    history_12d_population,history_13d_population,history_14d_population,history_15d_population,history_16d_population\n",
    "    ,history_17d_population,history_18d_population,history_19d_population,history_20d_population,history_21d_population\n",
    "    ,history_22d_population,history_23d_population,history_24d_population,history_25d_population,history_26d_population\n",
    "    ,history_27d_population,history_28d_population,history_29d_population,history_30d_population'''\n",
    "columns_30d=re.sub(reg,'',col_30d).split(',')    \n",
    "col_24h_stat = '''history_24h_population_max,history_24h_population_min,history_24h_population_mean,history_24h_population_median,history_24h_population_std'''\n",
    "columns_24h_stat = re.sub(reg,'',col_24h_stat).split(',')  \n",
    "#列名，同一时刻历史15天人数\n",
    "col_30d_stat = '''history_30d_population_max,history_30d_population_min,history_30d_population_mean,history_30d_population_median,history_30d_population_std'''\n",
    "columns_30d_stat = re.sub(reg,'',col_30d_stat).split(',')   "
   ]
  },
  {
   "cell_type": "code",
   "execution_count": 81,
   "metadata": {
    "collapsed": true
   },
   "outputs": [],
   "source": [
    "def feature_engineering(data):\n",
    "    df = data.copy()\n",
    "    df = seasonal_feature_engineering(df)\n",
    "    df = history_features(df)\n",
    "    df = history_24h_population_stat(df,columns_24h_stat)\n",
    "    df = history_30d_population_stat(df,columns_30d_stat)\n",
    "    return df"
   ]
  },
  {
   "cell_type": "code",
   "execution_count": 82,
   "metadata": {
    "collapsed": true
   },
   "outputs": [],
   "source": [
    "# 按地点分组\n",
    "def history_features(data):\n",
    "    res = [None]*33\n",
    "    df = data.copy()\n",
    "    df.sort_values(by=['loc_id','time_stamp'],inplace=True)\n",
    "    for i in range(33):\n",
    "        res[i] = df.loc[df.loc_id == i+1]\n",
    "    train = pd.DataFrame()\n",
    "    for tmp in res:\n",
    "        tmp = history_24h_population(tmp,columns_24h)\n",
    "        tmp = history_30d_population(tmp,columns_30d)\n",
    "        train = train.append(tmp)\n",
    "    return train"
   ]
  },
  {
   "cell_type": "code",
   "execution_count": 83,
   "metadata": {
    "collapsed": true
   },
   "outputs": [],
   "source": [
    "def history_24h_population(data,features):\n",
    "    df = data.copy()\n",
    "    for item in features:\n",
    "        df[item] = np.nan\n",
    "    for i in range(len(features)):\n",
    "        df[features[i]] = df['num_of_people'].shift(i+1)\n",
    "    return df"
   ]
  },
  {
   "cell_type": "code",
   "execution_count": 84,
   "metadata": {
    "collapsed": true
   },
   "outputs": [],
   "source": [
    "col_24h_stat = '''history_24h_population_max,history_24h_population_min,history_24h_population_mean,history_24h_population_median,history_24h_population_std'''\n",
    "def history_24h_population_stat(data,features):\n",
    "    df = data.copy()\n",
    "    for item in features:\n",
    "        df[item] = np.nan\n",
    "    df.history_24h_population_max = np.round(df[columns_24h].max(axis = 1))\n",
    "    df.history_24h_population_min = np.round(df[columns_24h].min(axis = 1))\n",
    "    df.history_24h_population_mean = np.round(df[columns_24h].mean(axis = 1))\n",
    "    df.history_24h_population_median = np.round(df[columns_24h].median(axis = 1))\n",
    "    df.history_24h_population_std = np.round(df[columns_24h].std(axis = 1))\n",
    "    return df"
   ]
  },
  {
   "cell_type": "code",
   "execution_count": 85,
   "metadata": {
    "collapsed": true
   },
   "outputs": [],
   "source": [
    "def history_30d_population(data,features):\n",
    "    df = data.copy()\n",
    "    for item in features:\n",
    "        df[item] = np.nan\n",
    "    for i in range(len(features)):\n",
    "        df[features[i]] = df['num_of_people'].shift((i+1)*24)\n",
    "    return df"
   ]
  },
  {
   "cell_type": "code",
   "execution_count": 86,
   "metadata": {
    "collapsed": true
   },
   "outputs": [],
   "source": [
    "col_30d_stat = '''history_30d_population_max,history_30d_population_min,history_30d_population_mean,history_30d_population_median,history_30d_population_std'''\n",
    "def history_30d_population_stat(data,features):\n",
    "    df = data.copy()\n",
    "    for item in features:\n",
    "        df[item] = np.nan\n",
    "    df.history_30d_population_max = np.round(df[columns_30d].max(axis = 1))\n",
    "    df.history_30d_population_min = np.round(df[columns_30d].min(axis = 1))\n",
    "    df.history_30d_population_mean = np.round(df[columns_30d].mean(axis = 1))\n",
    "    df.history_30d_population_median = np.round(df[columns_30d].median(axis = 1))\n",
    "    df.history_30d_population_std = np.round(df[columns_30d].std(axis = 1))\n",
    "    return df"
   ]
  },
  {
   "cell_type": "code",
   "execution_count": 99,
   "metadata": {
    "collapsed": true
   },
   "outputs": [],
   "source": [
    "def seasonal_feature_engineering(data):\n",
    "    df=data.copy()\n",
    "    df.time_stamp = pd.to_datetime(df.time_stamp)\n",
    "    df['hour_of_day'] = df.time_stamp.apply(lambda x : x.hour) #小时\n",
    "    df['day_of_week'] = df.time_stamp.apply(lambda x : x.weekday()) #周几，从0开始\n",
    "    df['day_of_month'] = df.time_stamp.apply(lambda x: x.day)\n",
    "    return df   "
   ]
  }
 ],
 "metadata": {
  "kernelspec": {
   "display_name": "Python 3",
   "language": "python",
   "name": "python3"
  },
  "language_info": {
   "codemirror_mode": {
    "name": "ipython",
    "version": 3
   },
   "file_extension": ".py",
   "mimetype": "text/x-python",
   "name": "python",
   "nbconvert_exporter": "python",
   "pygments_lexer": "ipython3",
   "version": "3.6.3"
  }
 },
 "nbformat": 4,
 "nbformat_minor": 2
}
