{
 "cells": [
  {
   "cell_type": "markdown",
   "metadata": {},
   "source": [
    "# 数据处理"
   ]
  },
  {
   "cell_type": "markdown",
   "metadata": {},
   "source": [
    "# 导入包"
   ]
  },
  {
   "cell_type": "code",
   "execution_count": 6,
   "metadata": {
    "collapsed": true
   },
   "outputs": [],
   "source": [
    "import pandas as pd\n",
    "import numpy as np"
   ]
  },
  {
   "cell_type": "markdown",
   "metadata": {},
   "source": [
    "# 导入数据和总览"
   ]
  },
  {
   "cell_type": "code",
   "execution_count": 85,
   "metadata": {
    "collapsed": true
   },
   "outputs": [],
   "source": [
    "inputfile = '../datasets/data.csv'\n",
    "outputfile = '../datasets/data_processed.csv'"
   ]
  },
  {
   "cell_type": "code",
   "execution_count": 86,
   "metadata": {
    "collapsed": true
   },
   "outputs": [],
   "source": [
    "data = pd.read_csv(inputfile,parse_dates=['time_stamp'])"
   ]
  },
  {
   "cell_type": "code",
   "execution_count": 87,
   "metadata": {
    "collapsed": true
   },
   "outputs": [],
   "source": [
    "df = data.copy()"
   ]
  },
  {
   "cell_type": "code",
   "execution_count": 5,
   "metadata": {},
   "outputs": [
    {
     "name": "stdout",
     "output_type": "stream",
     "text": [
      "<class 'pandas.core.frame.DataFrame'>\n",
      "RangeIndex: 229137 entries, 0 to 229136\n",
      "Data columns (total 3 columns):\n",
      "time_stamp       229137 non-null datetime64[ns]\n",
      "loc_id           229137 non-null int64\n",
      "num_of_people    229137 non-null int64\n",
      "dtypes: datetime64[ns](1), int64(2)\n",
      "memory usage: 5.2 MB\n"
     ]
    }
   ],
   "source": [
    "df.info()"
   ]
  },
  {
   "cell_type": "markdown",
   "metadata": {},
   "source": [
    "# 缺失值填充\n",
    "* 缺失值用上一个非null值填充"
   ]
  },
  {
   "cell_type": "code",
   "execution_count": 88,
   "metadata": {
    "collapsed": true
   },
   "outputs": [],
   "source": [
    "cols = ['time_stamp','loc_id']\n",
    "dt_range = pd.date_range('2017-01-01 00','2017-10-31 23',freq='H')\n",
    "blank = pd.DataFrame(columns=cols)\n",
    "locID = np.arange(1,34)\n",
    "for dt in dt_range:\n",
    "    p = pd.DataFrame({'time_stamp':dt,'loc_id':locID},columns=cols)\n",
    "    blank = blank.append(p)"
   ]
  },
  {
   "cell_type": "code",
   "execution_count": 13,
   "metadata": {},
   "outputs": [
    {
     "name": "stdout",
     "output_type": "stream",
     "text": [
      "<class 'pandas.core.frame.DataFrame'>\n",
      "Int64Index: 240768 entries, 0 to 32\n",
      "Data columns (total 2 columns):\n",
      "time_stamp    240768 non-null datetime64[ns]\n",
      "loc_id        240768 non-null object\n",
      "dtypes: datetime64[ns](1), object(1)\n",
      "memory usage: 5.5+ MB\n"
     ]
    }
   ],
   "source": [
    "blank.info()"
   ]
  },
  {
   "cell_type": "code",
   "execution_count": 89,
   "metadata": {
    "collapsed": true
   },
   "outputs": [],
   "source": [
    "# 去掉2月份数据，过年期间，数据异常严重\n",
    "blank = blank[(blank.time_stamp<'2017-02-01')|(blank.time_stamp>='2017-03-01')]\n",
    "df = df[(df.time_stamp<'2017-02-01')|(df.time_stamp>='2017-03-01')]"
   ]
  },
  {
   "cell_type": "code",
   "execution_count": 20,
   "metadata": {
    "scrolled": true
   },
   "outputs": [
    {
     "name": "stdout",
     "output_type": "stream",
     "text": [
      "<class 'pandas.core.frame.DataFrame'>\n",
      "Int64Index: 218592 entries, 0 to 32\n",
      "Data columns (total 2 columns):\n",
      "time_stamp    218592 non-null datetime64[ns]\n",
      "loc_id        218592 non-null object\n",
      "dtypes: datetime64[ns](1), object(1)\n",
      "memory usage: 5.0+ MB\n",
      "<class 'pandas.core.frame.DataFrame'>\n",
      "Int64Index: 208138 entries, 0 to 229136\n",
      "Data columns (total 3 columns):\n",
      "time_stamp       208138 non-null datetime64[ns]\n",
      "loc_id           208138 non-null int64\n",
      "num_of_people    208138 non-null int64\n",
      "dtypes: datetime64[ns](1), int64(2)\n",
      "memory usage: 6.4 MB\n"
     ]
    },
    {
     "data": {
      "text/plain": [
       "None"
      ]
     },
     "metadata": {},
     "output_type": "display_data"
    },
    {
     "data": {
      "text/plain": [
       "None"
      ]
     },
     "metadata": {},
     "output_type": "display_data"
    }
   ],
   "source": [
    "display(blank.info(),df.info())"
   ]
  },
  {
   "cell_type": "code",
   "execution_count": 90,
   "metadata": {
    "collapsed": true
   },
   "outputs": [],
   "source": [
    "mergedata = blank.merge(df,how='outer')"
   ]
  },
  {
   "cell_type": "code",
   "execution_count": 91,
   "metadata": {
    "collapsed": true
   },
   "outputs": [],
   "source": [
    "mergedata.fillna(method='ffill',inplace=True)"
   ]
  },
  {
   "cell_type": "code",
   "execution_count": 29,
   "metadata": {},
   "outputs": [
    {
     "name": "stdout",
     "output_type": "stream",
     "text": [
      "<class 'pandas.core.frame.DataFrame'>\n",
      "Int64Index: 218592 entries, 0 to 218591\n",
      "Data columns (total 3 columns):\n",
      "time_stamp       218592 non-null datetime64[ns]\n",
      "loc_id           218592 non-null int64\n",
      "num_of_people    218592 non-null float64\n",
      "dtypes: datetime64[ns](1), float64(1), int64(1)\n",
      "memory usage: 6.7 MB\n"
     ]
    }
   ],
   "source": [
    "mergedata.info()"
   ]
  },
  {
   "cell_type": "code",
   "execution_count": 34,
   "metadata": {
    "collapsed": true
   },
   "outputs": [
    {
     "data": {
      "text/html": [
       "<div>\n",
       "<style>\n",
       "    .dataframe thead tr:only-child th {\n",
       "        text-align: right;\n",
       "    }\n",
       "\n",
       "    .dataframe thead th {\n",
       "        text-align: left;\n",
       "    }\n",
       "\n",
       "    .dataframe tbody tr th {\n",
       "        vertical-align: top;\n",
       "    }\n",
       "</style>\n",
       "<table border=\"1\" class=\"dataframe\">\n",
       "  <thead>\n",
       "    <tr style=\"text-align: right;\">\n",
       "      <th></th>\n",
       "      <th>time_stamp</th>\n",
       "      <th>loc_id</th>\n",
       "      <th>num_of_people</th>\n",
       "    </tr>\n",
       "  </thead>\n",
       "  <tbody>\n",
       "    <tr>\n",
       "      <th>49137</th>\n",
       "      <td>2017-04-01 01:00:00</td>\n",
       "      <td>1</td>\n",
       "      <td>192.0</td>\n",
       "    </tr>\n",
       "    <tr>\n",
       "      <th>49138</th>\n",
       "      <td>2017-04-01 01:00:00</td>\n",
       "      <td>2</td>\n",
       "      <td>320.0</td>\n",
       "    </tr>\n",
       "    <tr>\n",
       "      <th>49139</th>\n",
       "      <td>2017-04-01 01:00:00</td>\n",
       "      <td>3</td>\n",
       "      <td>320.0</td>\n",
       "    </tr>\n",
       "    <tr>\n",
       "      <th>49140</th>\n",
       "      <td>2017-04-01 01:00:00</td>\n",
       "      <td>4</td>\n",
       "      <td>123.0</td>\n",
       "    </tr>\n",
       "    <tr>\n",
       "      <th>49141</th>\n",
       "      <td>2017-04-01 01:00:00</td>\n",
       "      <td>5</td>\n",
       "      <td>131.0</td>\n",
       "    </tr>\n",
       "    <tr>\n",
       "      <th>49142</th>\n",
       "      <td>2017-04-01 01:00:00</td>\n",
       "      <td>6</td>\n",
       "      <td>126.0</td>\n",
       "    </tr>\n",
       "    <tr>\n",
       "      <th>49143</th>\n",
       "      <td>2017-04-01 01:00:00</td>\n",
       "      <td>7</td>\n",
       "      <td>97.0</td>\n",
       "    </tr>\n",
       "    <tr>\n",
       "      <th>49144</th>\n",
       "      <td>2017-04-01 01:00:00</td>\n",
       "      <td>8</td>\n",
       "      <td>97.0</td>\n",
       "    </tr>\n",
       "    <tr>\n",
       "      <th>49145</th>\n",
       "      <td>2017-04-01 01:00:00</td>\n",
       "      <td>9</td>\n",
       "      <td>217.0</td>\n",
       "    </tr>\n",
       "    <tr>\n",
       "      <th>49146</th>\n",
       "      <td>2017-04-01 01:00:00</td>\n",
       "      <td>10</td>\n",
       "      <td>217.0</td>\n",
       "    </tr>\n",
       "    <tr>\n",
       "      <th>49147</th>\n",
       "      <td>2017-04-01 01:00:00</td>\n",
       "      <td>11</td>\n",
       "      <td>210.0</td>\n",
       "    </tr>\n",
       "    <tr>\n",
       "      <th>49148</th>\n",
       "      <td>2017-04-01 01:00:00</td>\n",
       "      <td>12</td>\n",
       "      <td>210.0</td>\n",
       "    </tr>\n",
       "    <tr>\n",
       "      <th>49149</th>\n",
       "      <td>2017-04-01 01:00:00</td>\n",
       "      <td>13</td>\n",
       "      <td>42.0</td>\n",
       "    </tr>\n",
       "    <tr>\n",
       "      <th>49150</th>\n",
       "      <td>2017-04-01 01:00:00</td>\n",
       "      <td>14</td>\n",
       "      <td>8.0</td>\n",
       "    </tr>\n",
       "    <tr>\n",
       "      <th>49151</th>\n",
       "      <td>2017-04-01 01:00:00</td>\n",
       "      <td>15</td>\n",
       "      <td>9.0</td>\n",
       "    </tr>\n",
       "    <tr>\n",
       "      <th>49152</th>\n",
       "      <td>2017-04-01 01:00:00</td>\n",
       "      <td>16</td>\n",
       "      <td>3.0</td>\n",
       "    </tr>\n",
       "    <tr>\n",
       "      <th>49153</th>\n",
       "      <td>2017-04-01 01:00:00</td>\n",
       "      <td>17</td>\n",
       "      <td>131.0</td>\n",
       "    </tr>\n",
       "    <tr>\n",
       "      <th>49154</th>\n",
       "      <td>2017-04-01 01:00:00</td>\n",
       "      <td>18</td>\n",
       "      <td>306.0</td>\n",
       "    </tr>\n",
       "    <tr>\n",
       "      <th>49155</th>\n",
       "      <td>2017-04-01 01:00:00</td>\n",
       "      <td>19</td>\n",
       "      <td>207.0</td>\n",
       "    </tr>\n",
       "    <tr>\n",
       "      <th>49156</th>\n",
       "      <td>2017-04-01 01:00:00</td>\n",
       "      <td>20</td>\n",
       "      <td>15.0</td>\n",
       "    </tr>\n",
       "    <tr>\n",
       "      <th>49157</th>\n",
       "      <td>2017-04-01 01:00:00</td>\n",
       "      <td>21</td>\n",
       "      <td>242.0</td>\n",
       "    </tr>\n",
       "    <tr>\n",
       "      <th>49158</th>\n",
       "      <td>2017-04-01 01:00:00</td>\n",
       "      <td>22</td>\n",
       "      <td>2.0</td>\n",
       "    </tr>\n",
       "    <tr>\n",
       "      <th>49159</th>\n",
       "      <td>2017-04-01 01:00:00</td>\n",
       "      <td>23</td>\n",
       "      <td>449.0</td>\n",
       "    </tr>\n",
       "    <tr>\n",
       "      <th>49160</th>\n",
       "      <td>2017-04-01 01:00:00</td>\n",
       "      <td>24</td>\n",
       "      <td>1.0</td>\n",
       "    </tr>\n",
       "    <tr>\n",
       "      <th>49161</th>\n",
       "      <td>2017-04-01 01:00:00</td>\n",
       "      <td>25</td>\n",
       "      <td>221.0</td>\n",
       "    </tr>\n",
       "    <tr>\n",
       "      <th>49162</th>\n",
       "      <td>2017-04-01 01:00:00</td>\n",
       "      <td>26</td>\n",
       "      <td>25.0</td>\n",
       "    </tr>\n",
       "    <tr>\n",
       "      <th>49163</th>\n",
       "      <td>2017-04-01 01:00:00</td>\n",
       "      <td>27</td>\n",
       "      <td>19.0</td>\n",
       "    </tr>\n",
       "    <tr>\n",
       "      <th>49164</th>\n",
       "      <td>2017-04-01 01:00:00</td>\n",
       "      <td>28</td>\n",
       "      <td>66.0</td>\n",
       "    </tr>\n",
       "    <tr>\n",
       "      <th>49165</th>\n",
       "      <td>2017-04-01 01:00:00</td>\n",
       "      <td>29</td>\n",
       "      <td>66.0</td>\n",
       "    </tr>\n",
       "    <tr>\n",
       "      <th>49166</th>\n",
       "      <td>2017-04-01 01:00:00</td>\n",
       "      <td>30</td>\n",
       "      <td>223.0</td>\n",
       "    </tr>\n",
       "    <tr>\n",
       "      <th>...</th>\n",
       "      <td>...</td>\n",
       "      <td>...</td>\n",
       "      <td>...</td>\n",
       "    </tr>\n",
       "    <tr>\n",
       "      <th>218562</th>\n",
       "      <td>2017-10-31 23:00:00</td>\n",
       "      <td>4</td>\n",
       "      <td>581.0</td>\n",
       "    </tr>\n",
       "    <tr>\n",
       "      <th>218563</th>\n",
       "      <td>2017-10-31 23:00:00</td>\n",
       "      <td>5</td>\n",
       "      <td>424.0</td>\n",
       "    </tr>\n",
       "    <tr>\n",
       "      <th>218564</th>\n",
       "      <td>2017-10-31 23:00:00</td>\n",
       "      <td>6</td>\n",
       "      <td>553.0</td>\n",
       "    </tr>\n",
       "    <tr>\n",
       "      <th>218565</th>\n",
       "      <td>2017-10-31 23:00:00</td>\n",
       "      <td>7</td>\n",
       "      <td>244.0</td>\n",
       "    </tr>\n",
       "    <tr>\n",
       "      <th>218566</th>\n",
       "      <td>2017-10-31 23:00:00</td>\n",
       "      <td>8</td>\n",
       "      <td>660.0</td>\n",
       "    </tr>\n",
       "    <tr>\n",
       "      <th>218567</th>\n",
       "      <td>2017-10-31 23:00:00</td>\n",
       "      <td>9</td>\n",
       "      <td>420.0</td>\n",
       "    </tr>\n",
       "    <tr>\n",
       "      <th>218568</th>\n",
       "      <td>2017-10-31 23:00:00</td>\n",
       "      <td>10</td>\n",
       "      <td>128.0</td>\n",
       "    </tr>\n",
       "    <tr>\n",
       "      <th>218569</th>\n",
       "      <td>2017-10-31 23:00:00</td>\n",
       "      <td>11</td>\n",
       "      <td>524.0</td>\n",
       "    </tr>\n",
       "    <tr>\n",
       "      <th>218570</th>\n",
       "      <td>2017-10-31 23:00:00</td>\n",
       "      <td>12</td>\n",
       "      <td>532.0</td>\n",
       "    </tr>\n",
       "    <tr>\n",
       "      <th>218571</th>\n",
       "      <td>2017-10-31 23:00:00</td>\n",
       "      <td>13</td>\n",
       "      <td>215.0</td>\n",
       "    </tr>\n",
       "    <tr>\n",
       "      <th>218572</th>\n",
       "      <td>2017-10-31 23:00:00</td>\n",
       "      <td>14</td>\n",
       "      <td>156.0</td>\n",
       "    </tr>\n",
       "    <tr>\n",
       "      <th>218573</th>\n",
       "      <td>2017-10-31 23:00:00</td>\n",
       "      <td>15</td>\n",
       "      <td>46.0</td>\n",
       "    </tr>\n",
       "    <tr>\n",
       "      <th>218574</th>\n",
       "      <td>2017-10-31 23:00:00</td>\n",
       "      <td>16</td>\n",
       "      <td>92.0</td>\n",
       "    </tr>\n",
       "    <tr>\n",
       "      <th>218575</th>\n",
       "      <td>2017-10-31 23:00:00</td>\n",
       "      <td>17</td>\n",
       "      <td>567.0</td>\n",
       "    </tr>\n",
       "    <tr>\n",
       "      <th>218576</th>\n",
       "      <td>2017-10-31 23:00:00</td>\n",
       "      <td>18</td>\n",
       "      <td>1023.0</td>\n",
       "    </tr>\n",
       "    <tr>\n",
       "      <th>218577</th>\n",
       "      <td>2017-10-31 23:00:00</td>\n",
       "      <td>19</td>\n",
       "      <td>379.0</td>\n",
       "    </tr>\n",
       "    <tr>\n",
       "      <th>218578</th>\n",
       "      <td>2017-10-31 23:00:00</td>\n",
       "      <td>20</td>\n",
       "      <td>253.0</td>\n",
       "    </tr>\n",
       "    <tr>\n",
       "      <th>218579</th>\n",
       "      <td>2017-10-31 23:00:00</td>\n",
       "      <td>21</td>\n",
       "      <td>697.0</td>\n",
       "    </tr>\n",
       "    <tr>\n",
       "      <th>218580</th>\n",
       "      <td>2017-10-31 23:00:00</td>\n",
       "      <td>22</td>\n",
       "      <td>10.0</td>\n",
       "    </tr>\n",
       "    <tr>\n",
       "      <th>218581</th>\n",
       "      <td>2017-10-31 23:00:00</td>\n",
       "      <td>23</td>\n",
       "      <td>771.0</td>\n",
       "    </tr>\n",
       "    <tr>\n",
       "      <th>218582</th>\n",
       "      <td>2017-10-31 23:00:00</td>\n",
       "      <td>24</td>\n",
       "      <td>277.0</td>\n",
       "    </tr>\n",
       "    <tr>\n",
       "      <th>218583</th>\n",
       "      <td>2017-10-31 23:00:00</td>\n",
       "      <td>25</td>\n",
       "      <td>326.0</td>\n",
       "    </tr>\n",
       "    <tr>\n",
       "      <th>218584</th>\n",
       "      <td>2017-10-31 23:00:00</td>\n",
       "      <td>26</td>\n",
       "      <td>173.0</td>\n",
       "    </tr>\n",
       "    <tr>\n",
       "      <th>218585</th>\n",
       "      <td>2017-10-31 23:00:00</td>\n",
       "      <td>27</td>\n",
       "      <td>119.0</td>\n",
       "    </tr>\n",
       "    <tr>\n",
       "      <th>218586</th>\n",
       "      <td>2017-10-31 23:00:00</td>\n",
       "      <td>28</td>\n",
       "      <td>452.0</td>\n",
       "    </tr>\n",
       "    <tr>\n",
       "      <th>218587</th>\n",
       "      <td>2017-10-31 23:00:00</td>\n",
       "      <td>29</td>\n",
       "      <td>207.0</td>\n",
       "    </tr>\n",
       "    <tr>\n",
       "      <th>218588</th>\n",
       "      <td>2017-10-31 23:00:00</td>\n",
       "      <td>30</td>\n",
       "      <td>976.0</td>\n",
       "    </tr>\n",
       "    <tr>\n",
       "      <th>218589</th>\n",
       "      <td>2017-10-31 23:00:00</td>\n",
       "      <td>31</td>\n",
       "      <td>480.0</td>\n",
       "    </tr>\n",
       "    <tr>\n",
       "      <th>218590</th>\n",
       "      <td>2017-10-31 23:00:00</td>\n",
       "      <td>32</td>\n",
       "      <td>242.0</td>\n",
       "    </tr>\n",
       "    <tr>\n",
       "      <th>218591</th>\n",
       "      <td>2017-10-31 23:00:00</td>\n",
       "      <td>33</td>\n",
       "      <td>120.0</td>\n",
       "    </tr>\n",
       "  </tbody>\n",
       "</table>\n",
       "<p>169455 rows × 3 columns</p>\n",
       "</div>"
      ],
      "text/plain": [
       "                time_stamp  loc_id  num_of_people\n",
       "49137  2017-04-01 01:00:00       1          192.0\n",
       "49138  2017-04-01 01:00:00       2          320.0\n",
       "49139  2017-04-01 01:00:00       3          320.0\n",
       "49140  2017-04-01 01:00:00       4          123.0\n",
       "49141  2017-04-01 01:00:00       5          131.0\n",
       "49142  2017-04-01 01:00:00       6          126.0\n",
       "49143  2017-04-01 01:00:00       7           97.0\n",
       "49144  2017-04-01 01:00:00       8           97.0\n",
       "49145  2017-04-01 01:00:00       9          217.0\n",
       "49146  2017-04-01 01:00:00      10          217.0\n",
       "49147  2017-04-01 01:00:00      11          210.0\n",
       "49148  2017-04-01 01:00:00      12          210.0\n",
       "49149  2017-04-01 01:00:00      13           42.0\n",
       "49150  2017-04-01 01:00:00      14            8.0\n",
       "49151  2017-04-01 01:00:00      15            9.0\n",
       "49152  2017-04-01 01:00:00      16            3.0\n",
       "49153  2017-04-01 01:00:00      17          131.0\n",
       "49154  2017-04-01 01:00:00      18          306.0\n",
       "49155  2017-04-01 01:00:00      19          207.0\n",
       "49156  2017-04-01 01:00:00      20           15.0\n",
       "49157  2017-04-01 01:00:00      21          242.0\n",
       "49158  2017-04-01 01:00:00      22            2.0\n",
       "49159  2017-04-01 01:00:00      23          449.0\n",
       "49160  2017-04-01 01:00:00      24            1.0\n",
       "49161  2017-04-01 01:00:00      25          221.0\n",
       "49162  2017-04-01 01:00:00      26           25.0\n",
       "49163  2017-04-01 01:00:00      27           19.0\n",
       "49164  2017-04-01 01:00:00      28           66.0\n",
       "49165  2017-04-01 01:00:00      29           66.0\n",
       "49166  2017-04-01 01:00:00      30          223.0\n",
       "...                    ...     ...            ...\n",
       "218562 2017-10-31 23:00:00       4          581.0\n",
       "218563 2017-10-31 23:00:00       5          424.0\n",
       "218564 2017-10-31 23:00:00       6          553.0\n",
       "218565 2017-10-31 23:00:00       7          244.0\n",
       "218566 2017-10-31 23:00:00       8          660.0\n",
       "218567 2017-10-31 23:00:00       9          420.0\n",
       "218568 2017-10-31 23:00:00      10          128.0\n",
       "218569 2017-10-31 23:00:00      11          524.0\n",
       "218570 2017-10-31 23:00:00      12          532.0\n",
       "218571 2017-10-31 23:00:00      13          215.0\n",
       "218572 2017-10-31 23:00:00      14          156.0\n",
       "218573 2017-10-31 23:00:00      15           46.0\n",
       "218574 2017-10-31 23:00:00      16           92.0\n",
       "218575 2017-10-31 23:00:00      17          567.0\n",
       "218576 2017-10-31 23:00:00      18         1023.0\n",
       "218577 2017-10-31 23:00:00      19          379.0\n",
       "218578 2017-10-31 23:00:00      20          253.0\n",
       "218579 2017-10-31 23:00:00      21          697.0\n",
       "218580 2017-10-31 23:00:00      22           10.0\n",
       "218581 2017-10-31 23:00:00      23          771.0\n",
       "218582 2017-10-31 23:00:00      24          277.0\n",
       "218583 2017-10-31 23:00:00      25          326.0\n",
       "218584 2017-10-31 23:00:00      26          173.0\n",
       "218585 2017-10-31 23:00:00      27          119.0\n",
       "218586 2017-10-31 23:00:00      28          452.0\n",
       "218587 2017-10-31 23:00:00      29          207.0\n",
       "218588 2017-10-31 23:00:00      30          976.0\n",
       "218589 2017-10-31 23:00:00      31          480.0\n",
       "218590 2017-10-31 23:00:00      32          242.0\n",
       "218591 2017-10-31 23:00:00      33          120.0\n",
       "\n",
       "[169455 rows x 3 columns]"
      ]
     },
     "execution_count": 34,
     "metadata": {},
     "output_type": "execute_result"
    }
   ],
   "source": [
    "mergedata[mergedata.time_stamp>'2017-04']"
   ]
  },
  {
   "cell_type": "markdown",
   "metadata": {},
   "source": [
    "# 异常值处理\n",
    "* 分位数0.1以下和0.9以上认为是异常值"
   ]
  },
  {
   "cell_type": "code",
   "execution_count": 78,
   "metadata": {
    "scrolled": true
   },
   "outputs": [],
   "source": [
    "mergedata_copy = mergedata.copy()"
   ]
  },
  {
   "cell_type": "code",
   "execution_count": 79,
   "metadata": {
    "collapsed": true
   },
   "outputs": [
    {
     "name": "stdout",
     "output_type": "stream",
     "text": [
      "处理前最小值：1.0，最大值：1983.0\n",
      "处理后最小值：49.0，最大值：1983.0\n",
      "处理前最小值：1.0，最大值：2006.0\n",
      "处理后最小值：65.0，最大值：2006.0\n",
      "处理前最小值：1.0，最大值：3143.0\n",
      "处理后最小值：11.0，最大值：3143.0\n",
      "处理前最小值：1.0，最大值：1852.0\n",
      "处理后最小值：16.0，最大值：1852.0\n",
      "处理前最小值：1.0，最大值：1320.0\n"
     ]
    },
    {
     "name": "stderr",
     "output_type": "stream",
     "text": [
      "C:\\Tool\\Anaconda\\lib\\site-packages\\pandas\\core\\indexing.py:517: SettingWithCopyWarning: \n",
      "A value is trying to be set on a copy of a slice from a DataFrame.\n",
      "Try using .loc[row_indexer,col_indexer] = value instead\n",
      "\n",
      "See the caveats in the documentation: http://pandas.pydata.org/pandas-docs/stable/indexing.html#indexing-view-versus-copy\n",
      "  self.obj[item] = s\n"
     ]
    },
    {
     "name": "stdout",
     "output_type": "stream",
     "text": [
      "处理后最小值：41.0，最大值：1320.0\n",
      "处理前最小值：1.0，最大值：1788.0\n",
      "处理后最小值：12.0，最大值：1788.0\n",
      "处理前最小值：1.0，最大值：1310.0\n",
      "处理后最小值：17.0，最大值：1310.0\n",
      "处理前最小值：1.0，最大值：8382.0\n",
      "处理后最小值：14.0，最大值：8382.0\n",
      "处理前最小值：1.0，最大值：4327.0\n",
      "处理后最小值：13.0，最大值：4327.0\n",
      "处理前最小值：1.0，最大值：6630.0\n",
      "处理后最小值：7.0，最大值：6630.0\n",
      "处理前最小值：1.0，最大值：4327.0\n",
      "处理后最小值：26.0，最大值：4327.0\n",
      "处理前最小值：1.0，最大值：9939.0\n",
      "处理后最小值：11.0，最大值：9939.0\n",
      "处理前最小值：1.0，最大值：4205.0\n",
      "处理后最小值：6.0，最大值：4205.0\n",
      "处理前最小值：1.0，最大值：1193.0\n",
      "处理后最小值：5.0，最大值：1193.0\n",
      "处理前最小值：1.0，最大值：2626.0\n",
      "处理后最小值：6.0，最大值：2626.0\n",
      "处理前最小值：1.0，最大值：2033.0\n",
      "处理后最小值：4.0，最大值：2033.0\n",
      "处理前最小值：1.0，最大值：1901.0\n",
      "处理后最小值：27.0，最大值：1901.0\n",
      "处理前最小值：1.0，最大值：1612.0\n",
      "处理后最小值：56.0，最大值：1612.0\n",
      "处理前最小值：1.0，最大值：1941.0\n",
      "处理后最小值：23.0，最大值：1941.0\n",
      "处理前最小值：1.0，最大值：2852.0\n",
      "处理后最小值：10.0，最大值：2852.0\n",
      "处理前最小值：1.0，最大值：1611.0\n",
      "处理后最小值：30.0，最大值：1611.0\n",
      "处理前最小值：1.0，最大值：1080.0\n",
      "处理后最小值：1.0，最大值：1080.0\n",
      "处理前最小值：1.0，最大值：1445.0\n",
      "处理后最小值：24.0，最大值：1445.0\n",
      "处理前最小值：1.0，最大值：2999.0\n",
      "处理后最小值：2.0，最大值：2999.0\n",
      "处理前最小值：1.0，最大值：2106.0\n",
      "处理后最小值：34.0，最大值：2106.0\n",
      "处理前最小值：1.0，最大值：1138.0\n",
      "处理后最小值：5.0，最大值：1138.0\n",
      "处理前最小值：1.0，最大值：2416.0\n",
      "处理后最小值：11.0，最大值：2416.0\n",
      "处理前最小值：1.0，最大值：1695.0\n",
      "处理后最小值：16.0，最大值：1695.0\n",
      "处理前最小值：1.0，最大值：6600.0\n",
      "处理后最小值：7.0，最大值：6600.0\n",
      "处理前最小值：1.0，最大值：4471.0\n",
      "处理后最小值：57.0，最大值：4471.0\n",
      "处理前最小值：1.0，最大值：3105.0\n",
      "处理后最小值：17.0，最大值：3105.0\n",
      "处理前最小值：1.0，最大值：2502.0\n",
      "处理后最小值：2.0，最大值：2502.0\n",
      "处理前最小值：1.0，最大值：2148.0\n",
      "处理后最小值：11.0，最大值：2148.0\n"
     ]
    }
   ],
   "source": [
    "res = data_outliers_processing(mergedata_copy)"
   ]
  },
  {
   "cell_type": "raw",
   "metadata": {},
   "source": [
    "res.info()"
   ]
  },
  {
   "cell_type": "code",
   "execution_count": 82,
   "metadata": {},
   "outputs": [
    {
     "data": {
      "text/html": [
       "<div>\n",
       "<style>\n",
       "    .dataframe thead tr:only-child th {\n",
       "        text-align: right;\n",
       "    }\n",
       "\n",
       "    .dataframe thead th {\n",
       "        text-align: left;\n",
       "    }\n",
       "\n",
       "    .dataframe tbody tr th {\n",
       "        vertical-align: top;\n",
       "    }\n",
       "</style>\n",
       "<table border=\"1\" class=\"dataframe\">\n",
       "  <thead>\n",
       "    <tr style=\"text-align: right;\">\n",
       "      <th></th>\n",
       "      <th>time_stamp</th>\n",
       "      <th>loc_id</th>\n",
       "      <th>num_of_people</th>\n",
       "    </tr>\n",
       "  </thead>\n",
       "  <tbody>\n",
       "    <tr>\n",
       "      <th>0</th>\n",
       "      <td>2017-01-01 00:00:00</td>\n",
       "      <td>1</td>\n",
       "      <td>120.0</td>\n",
       "    </tr>\n",
       "    <tr>\n",
       "      <th>33</th>\n",
       "      <td>2017-01-01 01:00:00</td>\n",
       "      <td>1</td>\n",
       "      <td>143.0</td>\n",
       "    </tr>\n",
       "    <tr>\n",
       "      <th>66</th>\n",
       "      <td>2017-01-01 02:00:00</td>\n",
       "      <td>1</td>\n",
       "      <td>87.0</td>\n",
       "    </tr>\n",
       "    <tr>\n",
       "      <th>99</th>\n",
       "      <td>2017-01-01 03:00:00</td>\n",
       "      <td>1</td>\n",
       "      <td>90.0</td>\n",
       "    </tr>\n",
       "    <tr>\n",
       "      <th>132</th>\n",
       "      <td>2017-01-01 04:00:00</td>\n",
       "      <td>1</td>\n",
       "      <td>49.0</td>\n",
       "    </tr>\n",
       "  </tbody>\n",
       "</table>\n",
       "</div>"
      ],
      "text/plain": [
       "             time_stamp  loc_id  num_of_people\n",
       "0   2017-01-01 00:00:00       1          120.0\n",
       "33  2017-01-01 01:00:00       1          143.0\n",
       "66  2017-01-01 02:00:00       1           87.0\n",
       "99  2017-01-01 03:00:00       1           90.0\n",
       "132 2017-01-01 04:00:00       1           49.0"
      ]
     },
     "execution_count": 82,
     "metadata": {},
     "output_type": "execute_result"
    }
   ],
   "source": [
    "res.head()"
   ]
  },
  {
   "cell_type": "markdown",
   "metadata": {},
   "source": [
    "# 导出数据"
   ]
  },
  {
   "cell_type": "code",
   "execution_count": 92,
   "metadata": {
    "collapsed": true
   },
   "outputs": [],
   "source": [
    "mergedata.to_csv(outputfile,index=False)"
   ]
  },
  {
   "cell_type": "code",
   "execution_count": 83,
   "metadata": {
    "collapsed": true
   },
   "outputs": [],
   "source": [
    "res.to_csv(outputfile,index=False)"
   ]
  },
  {
   "cell_type": "markdown",
   "metadata": {},
   "source": [
    "# 公共函数"
   ]
  },
  {
   "cell_type": "code",
   "execution_count": 77,
   "metadata": {
    "collapsed": true
   },
   "outputs": [],
   "source": [
    "def data_outliers_processing(data):\n",
    "    res = [None]*33\n",
    "    df = data.copy()\n",
    "    df.sort_values(by=['loc_id','time_stamp'],inplace=True)\n",
    "    for i in range(33):\n",
    "        res[i] = df.loc[df.loc_id == i+1]\n",
    "    train = pd.DataFrame()\n",
    "    for tmp in res:\n",
    "        print(\"处理前最小值：%s，最大值：%s\"%(tmp.num_of_people.quantile(0),tmp.num_of_people.quantile(1)))\n",
    "        minimum = tmp.num_of_people.quantile(0.05)\n",
    "#         maximum = tmp.num_of_people.quantile(0.99)\n",
    "        tmp.loc[tmp.num_of_people<minimum,'num_of_people'] = int(minimum)\n",
    "#         tmp.loc[tmp.num_of_people>maximum] = int(maximum)\n",
    "        print(\"处理后最小值：%s，最大值：%s\"%(tmp.num_of_people.quantile(0),tmp.num_of_people.quantile(1)))\n",
    "        train = train.append(tmp)\n",
    "    return train"
   ]
  }
 ],
 "metadata": {
  "kernelspec": {
   "display_name": "Python 3",
   "language": "python",
   "name": "python3"
  },
  "language_info": {
   "codemirror_mode": {
    "name": "ipython",
    "version": 3
   },
   "file_extension": ".py",
   "mimetype": "text/x-python",
   "name": "python",
   "nbconvert_exporter": "python",
   "pygments_lexer": "ipython3",
   "version": "3.6.3"
  }
 },
 "nbformat": 4,
 "nbformat_minor": 2
}
