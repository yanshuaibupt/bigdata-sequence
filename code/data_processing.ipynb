{
 "cells": [
  {
   "cell_type": "markdown",
   "metadata": {},
   "source": [
    "# 数据处理\n",
    "* 数据来源：../datasets/data.csv\n",
    "* 代码内容：处理数据的缺失值和异常值，保存为数据处理后的csv文件"
   ]
  },
  {
   "cell_type": "markdown",
   "metadata": {},
   "source": [
    "# 导入包"
   ]
  },
  {
   "cell_type": "code",
   "execution_count": 1,
   "metadata": {
    "collapsed": true
   },
   "outputs": [],
   "source": [
    "import pandas as pd\n",
    "import numpy as np\n",
    "import datetime"
   ]
  },
  {
   "cell_type": "markdown",
   "metadata": {},
   "source": [
    "# 导入数据和总览"
   ]
  },
  {
   "cell_type": "code",
   "execution_count": 23,
   "metadata": {
    "collapsed": true
   },
   "outputs": [],
   "source": [
    "inputfile = '../datasets/data.csv'\n",
    "inputfile_nov = '../datasets/data_nov.csv' # 11月份数据\n",
    "outputfile = '../datasets/data_processed.csv'"
   ]
  },
  {
   "cell_type": "code",
   "execution_count": 24,
   "metadata": {
    "collapsed": true
   },
   "outputs": [],
   "source": [
    "data = pd.read_csv(inputfile,parse_dates=['time_stamp'])\n",
    "data_nov = pd.read_csv(inputfile_nov,parse_dates=['time_stamp'])"
   ]
  },
  {
   "cell_type": "code",
   "execution_count": 25,
   "metadata": {
    "collapsed": true
   },
   "outputs": [],
   "source": [
    "data = data.append(data_nov)"
   ]
  },
  {
   "cell_type": "code",
   "execution_count": 26,
   "metadata": {
    "collapsed": true
   },
   "outputs": [],
   "source": [
    "df = data.copy()"
   ]
  },
  {
   "cell_type": "code",
   "execution_count": 27,
   "metadata": {},
   "outputs": [
    {
     "name": "stdout",
     "output_type": "stream",
     "text": [
      "<class 'pandas.core.frame.DataFrame'>\n",
      "Int64Index: 252013 entries, 0 to 22875\n",
      "Data columns (total 3 columns):\n",
      "time_stamp       252013 non-null datetime64[ns]\n",
      "loc_id           252013 non-null int64\n",
      "num_of_people    252013 non-null int64\n",
      "dtypes: datetime64[ns](1), int64(2)\n",
      "memory usage: 7.7 MB\n"
     ]
    }
   ],
   "source": [
    "df.info()"
   ]
  },
  {
   "cell_type": "markdown",
   "metadata": {},
   "source": [
    "# 缺失值填充"
   ]
  },
  {
   "cell_type": "markdown",
   "metadata": {},
   "source": [
    "## 1. 构造空结构"
   ]
  },
  {
   "cell_type": "code",
   "execution_count": 28,
   "metadata": {
    "collapsed": true,
    "scrolled": true
   },
   "outputs": [],
   "source": [
    "cols = ['time_stamp','loc_id']\n",
    "dt_range = pd.date_range('2017-01-01 00','2017-11-30 23',freq='H')\n",
    "blank = pd.DataFrame(columns=cols)\n",
    "locID = np.arange(1,34)\n",
    "for dt in dt_range:\n",
    "    p = pd.DataFrame({'time_stamp':dt,'loc_id':locID},columns=cols)\n",
    "    blank = blank.append(p)"
   ]
  },
  {
   "cell_type": "code",
   "execution_count": 29,
   "metadata": {},
   "outputs": [
    {
     "name": "stdout",
     "output_type": "stream",
     "text": [
      "<class 'pandas.core.frame.DataFrame'>\n",
      "Int64Index: 264528 entries, 0 to 32\n",
      "Data columns (total 2 columns):\n",
      "time_stamp    264528 non-null datetime64[ns]\n",
      "loc_id        264528 non-null object\n",
      "dtypes: datetime64[ns](1), object(1)\n",
      "memory usage: 6.1+ MB\n"
     ]
    }
   ],
   "source": [
    "blank.info()"
   ]
  },
  {
   "cell_type": "code",
   "execution_count": 30,
   "metadata": {},
   "outputs": [
    {
     "name": "stdout",
     "output_type": "stream",
     "text": [
      "<class 'pandas.core.frame.DataFrame'>\n",
      "Int64Index: 252013 entries, 0 to 22875\n",
      "Data columns (total 3 columns):\n",
      "time_stamp       252013 non-null datetime64[ns]\n",
      "loc_id           252013 non-null int64\n",
      "num_of_people    252013 non-null int64\n",
      "dtypes: datetime64[ns](1), int64(2)\n",
      "memory usage: 7.7 MB\n"
     ]
    }
   ],
   "source": [
    "df.info()"
   ]
  },
  {
   "cell_type": "code",
   "execution_count": 31,
   "metadata": {},
   "outputs": [
    {
     "name": "stdout",
     "output_type": "stream",
     "text": [
      "缺失数据大小为：12515\n"
     ]
    }
   ],
   "source": [
    "print(\"缺失数据大小为：%s\"%(blank.shape[0]-df.shape[0]))"
   ]
  },
  {
   "cell_type": "markdown",
   "metadata": {},
   "source": [
    "## 2. 填充缺失值\n",
    "* 用同一地点上一时刻的非空值人数"
   ]
  },
  {
   "cell_type": "code",
   "execution_count": 44,
   "metadata": {
    "collapsed": true
   },
   "outputs": [],
   "source": [
    "# 与完整的空结构合并\n",
    "mergedata = blank.merge(df,how='outer')"
   ]
  },
  {
   "cell_type": "code",
   "execution_count": 45,
   "metadata": {
    "scrolled": true
   },
   "outputs": [
    {
     "name": "stdout",
     "output_type": "stream",
     "text": [
      "<class 'pandas.core.frame.DataFrame'>\n",
      "Int64Index: 264528 entries, 0 to 264527\n",
      "Data columns (total 3 columns):\n",
      "time_stamp       264528 non-null datetime64[ns]\n",
      "loc_id           264528 non-null object\n",
      "num_of_people    252013 non-null float64\n",
      "dtypes: datetime64[ns](1), float64(1), object(1)\n",
      "memory usage: 8.1+ MB\n"
     ]
    }
   ],
   "source": [
    "mergedata.info()"
   ]
  },
  {
   "cell_type": "code",
   "execution_count": 47,
   "metadata": {},
   "outputs": [
    {
     "name": "stderr",
     "output_type": "stream",
     "text": [
      "D:\\Anaconda3\\lib\\site-packages\\ipykernel_launcher.py:6: SettingWithCopyWarning: \n",
      "A value is trying to be set on a copy of a slice from a DataFrame\n",
      "\n",
      "See the caveats in the documentation: http://pandas.pydata.org/pandas-docs/stable/indexing.html#indexing-view-versus-copy\n",
      "  \n",
      "D:\\Anaconda3\\lib\\site-packages\\ipykernel_launcher.py:9: SettingWithCopyWarning: \n",
      "A value is trying to be set on a copy of a slice from a DataFrame\n",
      "\n",
      "See the caveats in the documentation: http://pandas.pydata.org/pandas-docs/stable/indexing.html#indexing-view-versus-copy\n",
      "  if __name__ == '__main__':\n"
     ]
    },
    {
     "name": "stdout",
     "output_type": "stream",
     "text": [
      "Wall time: 14min 47s\n"
     ]
    }
   ],
   "source": [
    "# 缺失值填充\n",
    "# mergedata.fillna(method='ffill',inplace=True)\n",
    "mergedata.fillna(-1,inplace=True)\n",
    "%time mergedata = week_fullNa(mergedata)"
   ]
  },
  {
   "cell_type": "code",
   "execution_count": 37,
   "metadata": {},
   "outputs": [
    {
     "data": {
      "text/html": [
       "<div>\n",
       "<style scoped>\n",
       "    .dataframe tbody tr th:only-of-type {\n",
       "        vertical-align: middle;\n",
       "    }\n",
       "\n",
       "    .dataframe tbody tr th {\n",
       "        vertical-align: top;\n",
       "    }\n",
       "\n",
       "    .dataframe thead th {\n",
       "        text-align: right;\n",
       "    }\n",
       "</style>\n",
       "<table border=\"1\" class=\"dataframe\">\n",
       "  <thead>\n",
       "    <tr style=\"text-align: right;\">\n",
       "      <th></th>\n",
       "      <th>time_stamp</th>\n",
       "      <th>loc_id</th>\n",
       "      <th>num_of_people</th>\n",
       "    </tr>\n",
       "  </thead>\n",
       "  <tbody>\n",
       "  </tbody>\n",
       "</table>\n",
       "</div>"
      ],
      "text/plain": [
       "Empty DataFrame\n",
       "Columns: [time_stamp, loc_id, num_of_people]\n",
       "Index: []"
      ]
     },
     "execution_count": 37,
     "metadata": {},
     "output_type": "execute_result"
    }
   ],
   "source": [
    "# 检验缺失值\n",
    "mergedata[mergedata.num_of_people == -1]"
   ]
  },
  {
   "cell_type": "code",
   "execution_count": 39,
   "metadata": {
    "scrolled": true
   },
   "outputs": [
    {
     "name": "stdout",
     "output_type": "stream",
     "text": [
      "<class 'pandas.core.frame.DataFrame'>\n",
      "Int64Index: 264528 entries, 0 to 264527\n",
      "Data columns (total 3 columns):\n",
      "time_stamp       264528 non-null datetime64[ns]\n",
      "loc_id           264528 non-null int64\n",
      "num_of_people    264528 non-null float64\n",
      "dtypes: datetime64[ns](1), float64(1), int64(1)\n",
      "memory usage: 18.1 MB\n"
     ]
    }
   ],
   "source": [
    "mergedata.info()"
   ]
  },
  {
   "cell_type": "markdown",
   "metadata": {},
   "source": [
    "# 异常值处理\n",
    "* 分位数0.1以下和0.9以上认为是异常值"
   ]
  },
  {
   "cell_type": "code",
   "execution_count": 20,
   "metadata": {
    "collapsed": true,
    "scrolled": true
   },
   "outputs": [],
   "source": [
    "mergedata_copy = mergedata.copy()"
   ]
  },
  {
   "cell_type": "code",
   "execution_count": 21,
   "metadata": {
    "collapsed": true
   },
   "outputs": [
    {
     "name": "stdout",
     "output_type": "stream",
     "text": [
      "处理前最小值：1.0，最大值：2396.0\n",
      "处理后最小值：50.0，最大值：1294.0\n",
      "处理前最小值：1.0，最大值：3641.0\n"
     ]
    },
    {
     "name": "stderr",
     "output_type": "stream",
     "text": [
      "D:\\Anaconda3\\lib\\site-packages\\pandas\\core\\indexing.py:537: SettingWithCopyWarning: \n",
      "A value is trying to be set on a copy of a slice from a DataFrame.\n",
      "Try using .loc[row_indexer,col_indexer] = value instead\n",
      "\n",
      "See the caveats in the documentation: http://pandas.pydata.org/pandas-docs/stable/indexing.html#indexing-view-versus-copy\n",
      "  self.obj[item] = s\n"
     ]
    },
    {
     "name": "stdout",
     "output_type": "stream",
     "text": [
      "处理后最小值：87.0，最大值：1267.0\n",
      "处理前最小值：1.0，最大值：3143.0\n",
      "处理后最小值：9.0，最大值：2209.0\n",
      "处理前最小值：-1.0，最大值：2275.0\n",
      "处理后最小值：14.0，最大值：1126.0\n",
      "处理前最小值：1.0，最大值：3641.0\n",
      "处理后最小值：44.0，最大值：1024.0\n",
      "处理前最小值：-1.0，最大值：2504.0\n",
      "处理后最小值：13.0，最大值：1455.0\n",
      "处理前最小值：-1.0，最大值：2179.0\n",
      "处理后最小值：14.0，最大值：740.0\n",
      "处理前最小值：1.0，最大值：9464.0\n",
      "处理后最小值：13.0，最大值：6753.0\n",
      "处理前最小值：-1.0，最大值：3619.0\n",
      "处理后最小值：12.0，最大值：841.0\n",
      "处理前最小值：1.0，最大值：7747.0\n",
      "处理后最小值：5.0，最大值：4318.0\n",
      "处理前最小值：1.0，最大值：5309.0\n",
      "处理后最小值：36.0，最大值：1397.0\n",
      "处理前最小值：1.0，最大值：11878.0\n",
      "处理后最小值：10.0，最大值：7269.0\n",
      "处理前最小值：1.0，最大值：3476.0\n",
      "处理后最小值：4.0，最大值：846.0\n",
      "处理前最小值：1.0，最大值：5309.0\n",
      "处理后最小值：4.0，最大值：963.0\n",
      "处理前最小值：1.0，最大值：5896.0\n",
      "处理后最小值：5.0，最大值：1247.0\n",
      "处理前最小值：1.0，最大值：3233.0\n",
      "处理后最小值：3.0，最大值：1147.0\n",
      "处理前最小值：1.0，最大值：3863.0\n",
      "处理后最小值：23.0，最大值：1598.0\n",
      "处理前最小值：1.0，最大值：5896.0\n",
      "处理后最小值：94.0，最大值：1094.0\n",
      "处理前最小值：1.0，最大值：3233.0\n",
      "处理后最小值：36.0，最大值：993.0\n",
      "处理前最小值：1.0，最大值：3863.0\n",
      "处理后最小值：9.0，最大值：2169.0\n",
      "处理前最小值：1.0，最大值：3912.0\n",
      "处理后最小值：31.0，最大值：1274.0\n",
      "处理前最小值：1.0，最大值：3233.0\n",
      "处理后最小值：1.0，最大值：721.0\n",
      "处理前最小值：1.0，最大值：3863.0\n",
      "处理后最小值：42.0，最大值：945.0\n",
      "处理前最小值：1.0，最大值：3912.0\n",
      "处理后最小值：1.0，最大值：1553.0\n",
      "处理前最小值：1.0，最大值：3233.0\n",
      "处理后最小值：34.0，最大值：1628.0\n",
      "处理前最小值：1.0，最大值：3863.0\n",
      "处理后最小值：4.0，最大值：923.0\n",
      "处理前最小值：1.0，最大值：3912.0\n",
      "处理后最小值：10.0，最大值：1299.0\n",
      "处理前最小值：1.0，最大值：3233.0\n",
      "处理后最小值：16.0，最大值：1284.0\n",
      "处理前最小值：1.0，最大值：7573.0\n",
      "处理后最小值：5.0，最大值：4448.0\n",
      "处理前最小值：1.0，最大值：3912.0\n",
      "处理后最小值：85.0，最大值：1168.0\n",
      "处理前最小值：1.0，最大值：3233.0\n",
      "处理后最小值：15.0，最大值：2245.0\n",
      "处理前最小值：1.0，最大值：3641.0\n",
      "处理后最小值：2.0，最大值：996.0\n",
      "处理前最小值：1.0，最大值：3912.0\n",
      "处理后最小值：10.0，最大值：1133.0\n"
     ]
    }
   ],
   "source": [
    "res = data_outliers_processing(mergedata_copy)"
   ]
  },
  {
   "cell_type": "markdown",
   "metadata": {},
   "source": [
    "# 导出数据"
   ]
  },
  {
   "cell_type": "code",
   "execution_count": 23,
   "metadata": {
    "collapsed": true
   },
   "outputs": [],
   "source": [
    "res.to_csv(outputfile,index=False)"
   ]
  },
  {
   "cell_type": "markdown",
   "metadata": {},
   "source": [
    "# 公共函数"
   ]
  },
  {
   "cell_type": "code",
   "execution_count": 48,
   "metadata": {
    "collapsed": true
   },
   "outputs": [],
   "source": [
    "def week_fullNa(mergedata1):\n",
    "    mergedata=mergedata1.copy()\n",
    "    for i in range(len(mergedata)):\n",
    "        if i<5544:\n",
    "            if mergedata.num_of_people[i]==-1:\n",
    "                mergedata.num_of_people[i]=mergedata.num_of_people[i+5544]\n",
    "        else:\n",
    "            if mergedata.num_of_people[i]==-1:\n",
    "                mergedata.num_of_people[i]=mergedata.num_of_people[i-5544]\n",
    "    return mergedata"
   ]
  },
  {
   "cell_type": "code",
   "execution_count": 8,
   "metadata": {
    "collapsed": true
   },
   "outputs": [],
   "source": [
    "def data_outliers_processing(data):\n",
    "    res = [None]*33\n",
    "    df = data.copy()\n",
    "    df.sort_values(by=['loc_id','time_stamp'],inplace=True)\n",
    "    for i in range(33):\n",
    "        res[i] = df.loc[df.loc_id == i+1]\n",
    "    train = pd.DataFrame()\n",
    "    for tmp in res:\n",
    "        print(\"处理前最小值：%s，最大值：%s\"%(tmp.num_of_people.quantile(0),tmp.num_of_people.quantile(1)))\n",
    "        minimum = tmp.num_of_people.quantile(0.02)\n",
    "        maximum = tmp.num_of_people.quantile(0.99)\n",
    "        tmp.loc[tmp.num_of_people<minimum,'num_of_people'] = int(minimum)\n",
    "        tmp.loc[tmp.num_of_people>maximum] = int(maximum)\n",
    "        print(\"处理后最小值：%s，最大值：%s\"%(tmp.num_of_people.quantile(0),tmp.num_of_people.quantile(1)))\n",
    "        train = train.append(tmp)\n",
    "    return train"
   ]
  }
 ],
 "metadata": {
  "kernelspec": {
   "display_name": "Python 3",
   "language": "python",
   "name": "python3"
  },
  "language_info": {
   "codemirror_mode": {
    "name": "ipython",
    "version": 3
   },
   "file_extension": ".py",
   "mimetype": "text/x-python",
   "name": "python",
   "nbconvert_exporter": "python",
   "pygments_lexer": "ipython3",
   "version": "3.6.3"
  }
 },
 "nbformat": 4,
 "nbformat_minor": 2
}
