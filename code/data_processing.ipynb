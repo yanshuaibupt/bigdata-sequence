{
 "cells": [
  {
   "cell_type": "markdown",
   "metadata": {},
   "source": [
    "# 数据处理"
   ]
  },
  {
   "cell_type": "markdown",
   "metadata": {},
   "source": [
    "# 导入包"
   ]
  },
  {
   "cell_type": "code",
   "execution_count": 1,
   "metadata": {
    "collapsed": true
   },
   "outputs": [],
   "source": [
    "import pandas as pd\n",
    "import numpy as np\n",
    "import datetime"
   ]
  },
  {
   "cell_type": "markdown",
   "metadata": {},
   "source": [
    "# 导入数据和总览"
   ]
  },
  {
   "cell_type": "code",
   "execution_count": 17,
   "metadata": {
    "collapsed": true
   },
   "outputs": [],
   "source": [
    "inputfile = '../datasets/data.csv'\n",
    "outputfile = '../datasets/data_processed.csv'"
   ]
  },
  {
   "cell_type": "code",
   "execution_count": 18,
   "metadata": {
    "collapsed": true
   },
   "outputs": [],
   "source": [
    "data = pd.read_csv(inputfile,parse_dates=['time_stamp'])"
   ]
  },
  {
   "cell_type": "code",
   "execution_count": 39,
   "metadata": {
    "collapsed": true
   },
   "outputs": [],
   "source": [
    "df = data.copy()"
   ]
  },
  {
   "cell_type": "code",
   "execution_count": 7,
   "metadata": {},
   "outputs": [
    {
     "name": "stdout",
     "output_type": "stream",
     "text": [
      "<class 'pandas.core.frame.DataFrame'>\n",
      "RangeIndex: 229137 entries, 0 to 229136\n",
      "Data columns (total 3 columns):\n",
      "time_stamp       229137 non-null datetime64[ns]\n",
      "loc_id           229137 non-null int64\n",
      "num_of_people    229137 non-null int64\n",
      "dtypes: datetime64[ns](1), int64(2)\n",
      "memory usage: 5.2 MB\n"
     ]
    }
   ],
   "source": [
    "df.info()"
   ]
  },
  {
   "cell_type": "markdown",
   "metadata": {},
   "source": [
    "# 缺失值填充"
   ]
  },
  {
   "cell_type": "markdown",
   "metadata": {},
   "source": [
    "## 1. 构造空结构\n",
    "* 1/2月份数据异常严重，暂去掉"
   ]
  },
  {
   "cell_type": "code",
   "execution_count": 40,
   "metadata": {
    "collapsed": true
   },
   "outputs": [],
   "source": [
    "cols = ['time_stamp','loc_id']\n",
    "dt_range = pd.date_range('2017-03-01 00','2017-10-31 23',freq='H')\n",
    "blank = pd.DataFrame(columns=cols)\n",
    "locID = np.arange(1,34)\n",
    "for dt in dt_range:\n",
    "    p = pd.DataFrame({'time_stamp':dt,'loc_id':locID},columns=cols)\n",
    "    blank = blank.append(p)"
   ]
  },
  {
   "cell_type": "code",
   "execution_count": 41,
   "metadata": {
    "collapsed": true
   },
   "outputs": [],
   "source": [
    "# 去掉1月和2月\n",
    "df = df[(df.time_stamp>='2017-03-01')]"
   ]
  },
  {
   "cell_type": "code",
   "execution_count": 54,
   "metadata": {},
   "outputs": [
    {
     "name": "stdout",
     "output_type": "stream",
     "text": [
      "缺失数据大小为：10187\n"
     ]
    }
   ],
   "source": [
    "print(\"缺失数据大小为：%s\"%(blank.shape[0]-df.shape[0]))"
   ]
  },
  {
   "cell_type": "markdown",
   "metadata": {},
   "source": [
    "## 2. 填充缺失值\n",
    "* 用同一地点上一时刻的非空值人数\n",
    "* 0"
   ]
  },
  {
   "cell_type": "code",
   "execution_count": 55,
   "metadata": {
    "collapsed": true
   },
   "outputs": [],
   "source": [
    "mergedata = blank.merge(df,how='outer')"
   ]
  },
  {
   "cell_type": "code",
   "execution_count": 56,
   "metadata": {
    "scrolled": true
   },
   "outputs": [
    {
     "name": "stdout",
     "output_type": "stream",
     "text": [
      "<class 'pandas.core.frame.DataFrame'>\n",
      "Int64Index: 194040 entries, 0 to 194039\n",
      "Data columns (total 3 columns):\n",
      "time_stamp       194040 non-null datetime64[ns]\n",
      "loc_id           194040 non-null object\n",
      "num_of_people    183853 non-null float64\n",
      "dtypes: datetime64[ns](1), float64(1), object(1)\n",
      "memory usage: 5.9+ MB\n"
     ]
    }
   ],
   "source": [
    "mergedata.info()"
   ]
  },
  {
   "cell_type": "code",
   "execution_count": 57,
   "metadata": {
    "collapsed": true
   },
   "outputs": [],
   "source": [
    "mergedata.to_csv('../datasets/data_null.csv',index=False)"
   ]
  },
  {
   "cell_type": "code",
   "execution_count": 45,
   "metadata": {
    "collapsed": true
   },
   "outputs": [],
   "source": [
    "mergedata.sort_values(by=['loc_id','time_stamp'],inplace=True)"
   ]
  },
  {
   "cell_type": "code",
   "execution_count": null,
   "metadata": {
    "collapsed": true
   },
   "outputs": [],
   "source": [
    "# 去掉国庆\n",
    "mergedata = mergedata[(mergedata.time_stamp<'2017-10-01')|(mergedata.time_stamp>='2017-10-09')]"
   ]
  },
  {
   "cell_type": "code",
   "execution_count": 46,
   "metadata": {
    "collapsed": true
   },
   "outputs": [],
   "source": [
    "mergedata.fillna(method='ffill',inplace=True)\n",
    "mergedata.fillna(0,inplace=True)"
   ]
  },
  {
   "cell_type": "code",
   "execution_count": 31,
   "metadata": {
    "scrolled": true
   },
   "outputs": [
    {
     "name": "stdout",
     "output_type": "stream",
     "text": [
      "<class 'pandas.core.frame.DataFrame'>\n",
      "Int64Index: 194040 entries, 0 to 194039\n",
      "Data columns (total 3 columns):\n",
      "time_stamp       194040 non-null datetime64[ns]\n",
      "loc_id           194040 non-null int64\n",
      "num_of_people    194040 non-null float64\n",
      "dtypes: datetime64[ns](1), float64(1), int64(1)\n",
      "memory usage: 5.9 MB\n"
     ]
    }
   ],
   "source": [
    "mergedata.info()"
   ]
  },
  {
   "cell_type": "code",
   "execution_count": 128,
   "metadata": {
    "collapsed": true
   },
   "outputs": [],
   "source": [
    "# 去掉1月\n",
    "# mergedata = mergedata[(mergedata.time_stamp>='2017-03')]"
   ]
  },
  {
   "cell_type": "code",
   "execution_count": 47,
   "metadata": {},
   "outputs": [
    {
     "name": "stdout",
     "output_type": "stream",
     "text": [
      "<class 'pandas.core.frame.DataFrame'>\n",
      "Int64Index: 194040 entries, 0 to 194039\n",
      "Data columns (total 3 columns):\n",
      "time_stamp       194040 non-null datetime64[ns]\n",
      "loc_id           194040 non-null int64\n",
      "num_of_people    194040 non-null float64\n",
      "dtypes: datetime64[ns](1), float64(1), int64(1)\n",
      "memory usage: 5.9 MB\n"
     ]
    }
   ],
   "source": [
    "mergedata.info()"
   ]
  },
  {
   "cell_type": "code",
   "execution_count": 49,
   "metadata": {},
   "outputs": [
    {
     "name": "stdout",
     "output_type": "stream",
     "text": [
      "<class 'pandas.core.frame.DataFrame'>\n",
      "Int64Index: 187704 entries, 0 to 194039\n",
      "Data columns (total 3 columns):\n",
      "time_stamp       187704 non-null datetime64[ns]\n",
      "loc_id           187704 non-null int64\n",
      "num_of_people    187704 non-null float64\n",
      "dtypes: datetime64[ns](1), float64(1), int64(1)\n",
      "memory usage: 5.7 MB\n"
     ]
    }
   ],
   "source": [
    "mergedata.info()"
   ]
  },
  {
   "cell_type": "markdown",
   "metadata": {},
   "source": [
    "# 异常值处理\n",
    "* 分位数0.1以下和0.9以上认为是异常值"
   ]
  },
  {
   "cell_type": "code",
   "execution_count": 50,
   "metadata": {
    "collapsed": true,
    "scrolled": true
   },
   "outputs": [],
   "source": [
    "mergedata_copy = mergedata.copy()"
   ]
  },
  {
   "cell_type": "code",
   "execution_count": 51,
   "metadata": {
    "collapsed": true
   },
   "outputs": [
    {
     "name": "stdout",
     "output_type": "stream",
     "text": [
      "处理前最小值：0.0，最大值：1448.0\n",
      "处理后最小值：39.0，最大值：917.0\n",
      "处理前最小值：1.0，最大值：2006.0\n"
     ]
    },
    {
     "name": "stderr",
     "output_type": "stream",
     "text": [
      "D:\\Anaconda\\lib\\site-packages\\pandas\\core\\indexing.py:517: SettingWithCopyWarning: \n",
      "A value is trying to be set on a copy of a slice from a DataFrame.\n",
      "Try using .loc[row_indexer,col_indexer] = value instead\n",
      "\n",
      "See the caveats in the documentation: http://pandas.pydata.org/pandas-docs/stable/indexing.html#indexing-view-versus-copy\n",
      "  self.obj[item] = s\n"
     ]
    },
    {
     "name": "stdout",
     "output_type": "stream",
     "text": [
      "处理后最小值：81.0，最大值：1148.0\n",
      "处理前最小值：1.0，最大值：3143.0\n",
      "处理后最小值：7.0，最大值：2096.0\n",
      "处理前最小值：1.0，最大值：1383.0\n",
      "处理后最小值：12.0，最大值：942.0\n",
      "处理前最小值：1.0，最大值：1320.0\n",
      "处理后最小值：30.0，最大值：842.0\n",
      "处理前最小值：1.0，最大值：1788.0\n",
      "处理后最小值：11.0，最大值：1161.0\n",
      "处理前最小值：1.0，最大值：617.0\n",
      "处理后最小值：12.0，最大值：479.0\n",
      "处理前最小值：1.0，最大值：8382.0\n",
      "处理后最小值：10.0，最大值：6008.0\n",
      "处理前最小值：1.0，最大值：794.0\n",
      "处理后最小值：10.0，最大值：455.0\n",
      "处理前最小值：1.0，最大值：6630.0\n",
      "处理后最小值：4.0，最大值：3578.0\n",
      "处理前最小值：1.0，最大值：2145.0\n",
      "处理后最小值：33.0，最大值：1050.0\n",
      "处理前最小值：1.0，最大值：9939.0\n",
      "处理后最小值：9.0，最大值：6348.0\n",
      "处理前最小值：1.0，最大值：931.0\n",
      "处理后最小值：3.0，最大值：615.0\n",
      "处理前最小值：1.0，最大值：1193.0\n",
      "处理后最小值：3.0，最大值：746.0\n",
      "处理前最小值：1.0，最大值：2626.0\n",
      "处理后最小值：4.0，最大值：956.0\n",
      "处理前最小值：1.0，最大值：2033.0\n",
      "处理后最小值：3.0，最大值：1062.0\n",
      "处理前最小值：1.0，最大值：1901.0\n",
      "处理后最小值：21.0，最大值：1375.0\n",
      "处理前最小值：1.0，最大值：1522.0\n",
      "处理后最小值：70.0，最大值：904.0\n",
      "处理前最小值：2.0，最大值：1941.0\n",
      "处理后最小值：30.0，最大值：927.0\n",
      "处理前最小值：2.0，最大值：2852.0\n",
      "处理后最小值：8.0，最大值：2002.0\n",
      "处理前最小值：2.0，最大值：1611.0\n",
      "处理后最小值：30.0，最大值：1127.0\n",
      "处理前最小值：1.0，最大值：1080.0\n",
      "处理后最小值：1.0，最大值：636.0\n",
      "处理前最小值：1.0，最大值：1445.0\n",
      "处理后最小值：40.0，最大值：737.0\n",
      "处理前最小值：1.0，最大值：2999.0\n",
      "处理后最小值：1.0，最大值：1405.0\n",
      "处理前最小值：2.0，最大值：2106.0\n",
      "处理后最小值：33.0，最大值：1394.0\n",
      "处理前最小值：1.0，最大值：1138.0\n",
      "处理后最小值：2.0，最大值：771.0\n",
      "处理前最小值：1.0，最大值：2416.0\n",
      "处理后最小值：9.0，最大值：1176.0\n",
      "处理前最小值：2.0，最大值：1695.0\n",
      "处理后最小值：13.0，最大值：1119.0\n",
      "处理前最小值：1.0，最大值：6600.0\n",
      "处理后最小值：4.0，最大值：3753.0\n",
      "处理前最小值：1.0，最大值：1576.0\n",
      "处理后最小值：72.0，最大值：1103.0\n",
      "处理前最小值：1.0，最大值：3105.0\n",
      "处理后最小值：13.0，最大值：2198.0\n",
      "处理前最小值：1.0，最大值：1114.0\n",
      "处理后最小值：2.0，最大值：834.0\n",
      "处理前最小值：2.0，最大值：2148.0\n",
      "处理后最小值：10.0，最大值：1104.0\n"
     ]
    }
   ],
   "source": [
    "res = data_outliers_processing(mergedata_copy)"
   ]
  },
  {
   "cell_type": "raw",
   "metadata": {},
   "source": [
    "res.info()"
   ]
  },
  {
   "cell_type": "code",
   "execution_count": 52,
   "metadata": {},
   "outputs": [
    {
     "data": {
      "text/html": [
       "<div>\n",
       "<style>\n",
       "    .dataframe thead tr:only-child th {\n",
       "        text-align: right;\n",
       "    }\n",
       "\n",
       "    .dataframe thead th {\n",
       "        text-align: left;\n",
       "    }\n",
       "\n",
       "    .dataframe tbody tr th {\n",
       "        vertical-align: top;\n",
       "    }\n",
       "</style>\n",
       "<table border=\"1\" class=\"dataframe\">\n",
       "  <thead>\n",
       "    <tr style=\"text-align: right;\">\n",
       "      <th></th>\n",
       "      <th>time_stamp</th>\n",
       "      <th>loc_id</th>\n",
       "      <th>num_of_people</th>\n",
       "    </tr>\n",
       "  </thead>\n",
       "  <tbody>\n",
       "    <tr>\n",
       "      <th>0</th>\n",
       "      <td>2017-03-01 00:00:00</td>\n",
       "      <td>1</td>\n",
       "      <td>39.0</td>\n",
       "    </tr>\n",
       "    <tr>\n",
       "      <th>33</th>\n",
       "      <td>2017-03-01 01:00:00</td>\n",
       "      <td>1</td>\n",
       "      <td>39.0</td>\n",
       "    </tr>\n",
       "    <tr>\n",
       "      <th>66</th>\n",
       "      <td>2017-03-01 02:00:00</td>\n",
       "      <td>1</td>\n",
       "      <td>54.0</td>\n",
       "    </tr>\n",
       "    <tr>\n",
       "      <th>99</th>\n",
       "      <td>2017-03-01 03:00:00</td>\n",
       "      <td>1</td>\n",
       "      <td>456.0</td>\n",
       "    </tr>\n",
       "    <tr>\n",
       "      <th>132</th>\n",
       "      <td>2017-03-01 04:00:00</td>\n",
       "      <td>1</td>\n",
       "      <td>470.0</td>\n",
       "    </tr>\n",
       "  </tbody>\n",
       "</table>\n",
       "</div>"
      ],
      "text/plain": [
       "             time_stamp  loc_id  num_of_people\n",
       "0   2017-03-01 00:00:00       1           39.0\n",
       "33  2017-03-01 01:00:00       1           39.0\n",
       "66  2017-03-01 02:00:00       1           54.0\n",
       "99  2017-03-01 03:00:00       1          456.0\n",
       "132 2017-03-01 04:00:00       1          470.0"
      ]
     },
     "execution_count": 52,
     "metadata": {},
     "output_type": "execute_result"
    }
   ],
   "source": [
    "res.head()"
   ]
  },
  {
   "cell_type": "markdown",
   "metadata": {},
   "source": [
    "# 导出数据"
   ]
  },
  {
   "cell_type": "code",
   "execution_count": 53,
   "metadata": {
    "collapsed": true
   },
   "outputs": [],
   "source": [
    "mergedata.to_csv(outputfile,index=False)"
   ]
  },
  {
   "cell_type": "markdown",
   "metadata": {},
   "source": [
    "# 公共函数"
   ]
  },
  {
   "cell_type": "code",
   "execution_count": 36,
   "metadata": {
    "collapsed": true
   },
   "outputs": [],
   "source": [
    "def data_outliers_processing(data):\n",
    "    res = [None]*33\n",
    "    df = data.copy()\n",
    "    df.sort_values(by=['loc_id','time_stamp'],inplace=True)\n",
    "    for i in range(33):\n",
    "        res[i] = df.loc[df.loc_id == i+1]\n",
    "    train = pd.DataFrame()\n",
    "    for tmp in res:\n",
    "        print(\"处理前最小值：%s，最大值：%s\"%(tmp.num_of_people.quantile(0),tmp.num_of_people.quantile(1)))\n",
    "        minimum = tmp.num_of_people.quantile(0.02)\n",
    "        maximum = tmp.num_of_people.quantile(0.99)\n",
    "        tmp.loc[tmp.num_of_people<minimum,'num_of_people'] = int(minimum)\n",
    "        tmp.loc[tmp.num_of_people>maximum] = int(maximum)\n",
    "        print(\"处理后最小值：%s，最大值：%s\"%(tmp.num_of_people.quantile(0),tmp.num_of_people.quantile(1)))\n",
    "        train = train.append(tmp)\n",
    "    return train"
   ]
  }
 ],
 "metadata": {
  "kernelspec": {
   "display_name": "Python 3",
   "language": "python",
   "name": "python3"
  },
  "language_info": {
   "codemirror_mode": {
    "name": "ipython",
    "version": 3
   },
   "file_extension": ".py",
   "mimetype": "text/x-python",
   "name": "python",
   "nbconvert_exporter": "python",
   "pygments_lexer": "ipython3",
   "version": "3.6.3"
  }
 },
 "nbformat": 4,
 "nbformat_minor": 2
}
